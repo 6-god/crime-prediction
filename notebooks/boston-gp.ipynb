{
 "cells": [
  {
   "cell_type": "code",
   "execution_count": 1,
   "metadata": {
    "collapsed": false
   },
   "outputs": [],
   "source": [
    "import numpy as np\n",
    "import pandas as pd\n",
    "import csv\n",
    "import sklearn.linear_model as lm\n",
    "import matplotlib.pyplot as plt\n",
    "import sys"
   ]
  },
  {
   "cell_type": "code",
   "execution_count": 1,
   "metadata": {
    "collapsed": false
   },
   "outputs": [],
   "source": [
    "'''\n",
    "Utility Functions\n",
    "'''\n",
    "# DATA: months since 2012, X coord, Y coord\n",
    "# if split size = 0, do non\n",
    "def split(X, tr_size):\n",
    "    n_col = np.shape(X)[1]\n",
    "    if tr_size != 0:\n",
    "        Y = np.copy(X)\n",
    "        np.random.shuffle(Y)\n",
    "        break_pt = tr_size * np.shape(X)[0]\n",
    "        train, test = Y[:break_pt,:], Y[break_pt:,:]\n",
    "    else:\n",
    "        break_pt = (3500./4400.) * np.shape(X)[0]\n",
    "        train, test = X[:break_pt,:], X[break_pt:,:]\n",
    "\n",
    "    tr_t, te_t = train[:,n_col-1], test[:,n_col-1]\n",
    "    tr, te = train[:,range(n_col-1)], test[:,range(n_col-1)]\n",
    "    return tr, tr_t, te, te_t\n",
    "\n",
    "# implementation notes: set NaN to mean\n",
    "def normalize_features(X_train):\n",
    "    mean_X_train = np.nanmean(X_train, 0)\n",
    "    for i in xrange(np.shape(X_train)[1]):\n",
    "        col = X_train[:,i]\n",
    "        col[ np.isnan(col) ] = mean_X_train[i]\n",
    "    std_X_train = np.std(X_train, 0)\n",
    "    std_X_train[ std_X_train == 0 ] = 1\n",
    "    X_train_normalized = (X_train - mean_X_train) / std_X_train\n",
    "    return X_train_normalized\n",
    "\n",
    "# Note: bucket edits in place\n",
    "def bucket(X, cols, num_buckets):\n",
    "    Y = np.copy(X)\n",
    "    for col in cols:\n",
    "        buckets = np.linspace(np.min(X[:,col]), np.max(X[:,col]), num=num_buckets+1)\n",
    "        for i in xrange(num_buckets):\n",
    "            X_col = Y[:,col]\n",
    "            X_col[ (buckets[i] <= X_col) & (X_col <= buckets[i+1])] = i\n",
    "            Y[:,col] = X_col\n",
    "    return Y\n",
    "\n",
    "def rmse(predict, true):\n",
    "    return np.sqrt(1.0/np.shape(predict)[0] * np.sum(np.square(predict - true)))"
   ]
  },
  {
   "cell_type": "code",
   "execution_count": 3,
   "metadata": {
    "collapsed": false
   },
   "outputs": [
    {
     "name": "stdout",
     "output_type": "stream",
     "text": [
      "('Warnings raised:', [<warnings.WarningMessage object at 0x7ffad8292610>])\n",
      "('Warning message:', 'Columns (10) have mixed types. Specify dtype option on import or set low_memory=False.')\n",
      "(\"Applying <type 'str'> dtype to columns:\", [10])\n"
     ]
    }
   ],
   "source": [
    "'''\n",
    "Read in data\n",
    "'''\n",
    "\n",
    "import re\n",
    "import warnings\n",
    "\n",
    "bos_file = '../data/boston.csv'\n",
    "target_type = str  # The desired output type\n",
    "\n",
    "with warnings.catch_warnings(record=True) as ws:\n",
    "    warnings.simplefilter(\"always\")\n",
    "\n",
    "    bos_data = pd.read_csv(bos_file, sep=\",\", header=0)\n",
    "    print(\"Warnings raised:\", ws)\n",
    "    # We have an error on specific columns, try and load them as string\n",
    "    for w in ws:\n",
    "        s = str(w.message)\n",
    "        print(\"Warning message:\", s)\n",
    "        match = re.search(r\"Columns \\(([0-9,]+)\\) have mixed types\\.\", s)\n",
    "        if match:\n",
    "            columns = match.group(1).split(',') # Get columns as a list\n",
    "            columns = [int(c) for c in columns]\n",
    "            print(\"Applying %s dtype to columns:\" % target_type, columns)\n",
    "            bos_data.iloc[:,columns] = bos_data.iloc[:,columns].astype(target_type)\n",
    "\n",
    "'''\n",
    "Featurize data\n",
    "'''\n",
    "# temporal features\n",
    "# day of week\n",
    "day = np.array(bos_data.DAY_WEEK)\n",
    "day[ day == \"Sunday\"] = 0\n",
    "day[ day == \"Monday\"] = 1\n",
    "day[ day == \"Tuesday\"] = 2\n",
    "day[ day == \"Wednesday\"] = 3\n",
    "day[ day == \"Thursday\"] = 4\n",
    "day[ day == \"Friday\"] = 5\n",
    "day[ day == \"Saturday\"] = 6\n",
    "\n",
    "# Split mm/dd/yyyy xx:yy:zz AM/PM into components\n",
    "date_time = np.array([x.split() for x in bos_data.FROMDATE])\n",
    "date = date_time[:,0]\n",
    "time = date_time[:,1]\n",
    "tod = date_time[:,2]\n",
    "\n",
    "# month, day, year\n",
    "date = np.array([x.split('/') for x in date])\n",
    "month = [int(x) for x in date[:,0]]\n",
    "dom = [int(x) for x in date[:,1]]\n",
    "year = [int(x) for x in date[:,2]]\n",
    "# months since Jan 2012\n",
    "time_feat = np.subtract(year, 2012)*12 + month\n",
    "\n",
    "# time of day\n",
    "time_c = [x.split(':') for x in time]\n",
    "time = [int(x[1]) if (y == 'AM' and int(x[0]) == 12) else 60*int(x[0])+int(x[1]) \n",
    "        if (y =='AM' and int(x[0]) != 12) or (int(x[0]) == 12 and y == 'PM') else 12*60+60*int(x[0])+int(x[1]) \n",
    "        for x,y in zip(time_c, tod)]\n",
    "\n",
    "# grab the features we want\n",
    "data_unnorm = np.transpose(np.vstack((time_feat, bos_data.X, bos_data.Y))).astype(float)\n",
    "# remove NaNs\n",
    "good_data = data_unnorm[~(np.isnan(data_unnorm[:,1]))]"
   ]
  },
  {
   "cell_type": "code",
   "execution_count": 4,
   "metadata": {
    "collapsed": false
   },
   "outputs": [],
   "source": [
    "'''\n",
    "Count data for each cell. If logSpace is true, returns log values.\n",
    "'''\n",
    "def createBuckets(n_buckets = 15, logSpace = True):\n",
    "    data_b = bucket(good_data, [1, 2], n_buckets)\n",
    "\n",
    "    years = [2012, 2013, 2014, 2015]\n",
    "    n_time = int(data_b[np.argmax(data_b[:,0])][0])\n",
    "\n",
    "    # buckets = np.zeros((n_time, n_buckets, n_buckets))\n",
    "    buckets2 = np.zeros((n_buckets * n_buckets * n_time, 4))\n",
    "\n",
    "    # divide the data up by year and month\n",
    "    for i in xrange(n_time):\n",
    "        for j in xrange(n_buckets):\n",
    "            for k in xrange(n_buckets):\n",
    "                count = data_b[ (data_b[:,0] == i+1) & \n",
    "                                (data_b[:,1] == j) & \n",
    "                                (data_b[:,2] == k)]\n",
    "                # buckets[i][j][k] = np.size(count,0)\n",
    "                buckets2[i*(n_buckets * n_buckets)+j*(n_buckets)+k][0] = i\n",
    "                buckets2[i*(n_buckets * n_buckets)+j*(n_buckets)+k][1] = j\n",
    "                buckets2[i*(n_buckets * n_buckets)+j*(n_buckets)+k][2] = k\n",
    "                buckets2[i*(n_buckets * n_buckets)+j*(n_buckets)+k][3] = np.size(count,0)\n",
    "    print np.shape(buckets2)\n",
    "    \n",
    "    if logSpace:\n",
    "        buckets2[:,3] = np.log(np.add(sys.float_info.epsilon, buckets2[:,3]))\n",
    "    \n",
    "    return buckets2"
   ]
  },
  {
   "cell_type": "code",
   "execution_count": 12,
   "metadata": {
    "collapsed": false
   },
   "outputs": [],
   "source": [
    "'''\n",
    "Our GP\n",
    "    other implementations:\n",
    "    - scikit-learn\n",
    "    - GPy\n",
    "'''\n",
    "\n",
    "# compute the kernel matrix\n",
    "# use square exponential by default\n",
    "def ker_se(x, y, l, horz = 1.0):\n",
    "    \n",
    "    n = np.shape(x)[0]\n",
    "    m = np.shape(y)[0]\n",
    "    \n",
    "    t = np.reshape(x, (np.shape(x)[0], 1, np.shape(x)[1]))\n",
    "    s = np.reshape(y, (1, np.shape(y)[0], np.shape(y)[1]))\n",
    "\n",
    "    # tile across columns\n",
    "    cols = np.tile(t, (1, m, 1))\n",
    "    # tile across rows\n",
    "    rows = np.tile(s, (n, 1, 1))\n",
    "    # get the differences and vectorize\n",
    "    diff_vec = np.reshape(cols - rows, (n*m, np.shape(t)[2]))\n",
    "    \n",
    "    M = np.diag(l)\n",
    "    \n",
    "    # use multiply and sum to calculate matrix product\n",
    "    s = np.multiply(-.5, np.sum(np.multiply(diff_vec, np.transpose(np.dot(M, np.transpose(diff_vec)))), axis=1))\n",
    "    se = np.reshape(np.multiply(horz, np.exp(s)), (n, m))\n",
    "    \n",
    "    return se"
   ]
  },
  {
   "cell_type": "code",
   "execution_count": 14,
   "metadata": {
    "collapsed": false
   },
   "outputs": [],
   "source": [
    "'''\n",
    "Calculate kernels\n",
    "'''\n",
    "def GaussianProcess(train, train_t, test, test_t, l,\n",
    "                    horz, predict=True, rmse=True, ker='se'):\n",
    "    # Try to be memory efficient by deleting data after use!\n",
    "    if ker == 'se':\n",
    "        ker_fun = ker_se\n",
    "    else:\n",
    "        raise Exception(\"Kernal {} Not Supported!\".format(ker))\n",
    "        \n",
    "    ker1 = ker_fun(train, train, l, horz)\n",
    "    L = np.linalg.cholesky(ker1 + np.multiply(sig_eps, np.identity(np.shape(ker1)[0])))\n",
    "    del ker1\n",
    "    \n",
    "    alpha = np.linalg.solve(L.T, np.linalg.solve(L, train_t))\n",
    "    \n",
    "    # Only do this if we request the predictions or rmse\n",
    "    ret = []\n",
    "    if predict or rmse:\n",
    "        ker2 = ker_fun(train,test, l, horz)\n",
    "        preds = np.dot(np.transpose(ker2), alpha)\n",
    "        del ker2\n",
    "        ret.append(preds)\n",
    "        \n",
    "    \n",
    "    # Only if we request the rmse\n",
    "    if rmse:\n",
    "        npreds = npreds / float(npreds.sum())\n",
    "        ntest_t = ntest_t / float(ntest_t.sum())\n",
    "        rmse_val = np.sqrt(np.sum(np.square(npreds - ntest_t))/np.shape(preds)[0])\n",
    "        print rmse\n",
    "        ret.append(rmse_val)\n",
    "        \n",
    "    # Calculate the marginal likelihood\n",
    "    likelihood = -.5 * np.dot(np.transpose(train_t), alpha) - np.sum(np.log(np.diagonal(L))) - np.shape(ker1)[0]/2 * np.log(2*np.pi)\n",
    "    ret.append(likelihood)\n",
    "    \n",
    "    return tuple(ret)\n"
   ]
  },
  {
   "cell_type": "code",
   "execution_count": null,
   "metadata": {
    "collapsed": false
   },
   "outputs": [],
   "source": [
    "%time data = createBuckets()  # default is 15\n",
    "predictions, rmse, likelihood = GaussianProcess(data, np.ones(3), 1.0)"
   ]
  },
  {
   "cell_type": "code",
   "execution_count": null,
   "metadata": {
    "collapsed": true
   },
   "outputs": [],
   "source": [
    "# Collect likelihoods for different n values\n",
    "testN = range(2,10) + range(10,20,5)\n",
    "likelihoods = []\n",
    "for n in testN:\n",
    "    %time data = createBuckets(n)\n",
    "    likelihood = GaussianProcess(data, np.ones(3), 1.0)\n",
    "    likelihoods.append(likelihood)"
   ]
  },
  {
   "cell_type": "code",
   "execution_count": 13,
   "metadata": {
    "collapsed": true
   },
   "outputs": [],
   "source": [
    "def optimizeGaussianProcess(l1, l2, l3, horz):\n",
    "    data = crea\n",
    "    l = np.array([l1,l2,l3])\n",
    "    likelihood = GaussianProcess(data, l, predict = False, rmse = False)\n",
    "    return likelihood"
   ]
  },
  {
   "cell_type": "code",
   "execution_count": 2,
   "metadata": {
    "collapsed": true
   },
   "outputs": [],
   "source": [
    "'''\n",
    "Smart GP\n",
    "'''\n",
    "\n",
    "import GPy as gp"
   ]
  },
  {
   "cell_type": "code",
   "execution_count": 3,
   "metadata": {
    "collapsed": false
   },
   "outputs": [
    {
     "ename": "NameError",
     "evalue": "name 'train' is not defined",
     "output_type": "error",
     "traceback": [
      "\u001b[1;31m---------------------------------------------------------------------------\u001b[0m",
      "\u001b[1;31mNameError\u001b[0m                                 Traceback (most recent call last)",
      "\u001b[1;32m<ipython-input-3-403810d56c7e>\u001b[0m in \u001b[0;36m<module>\u001b[1;34m()\u001b[0m\n\u001b[0;32m      1\u001b[0m \u001b[0mkern\u001b[0m \u001b[1;33m=\u001b[0m \u001b[0mgp\u001b[0m\u001b[1;33m.\u001b[0m\u001b[0mkern\u001b[0m\u001b[1;33m.\u001b[0m\u001b[0mRBF\u001b[0m\u001b[1;33m(\u001b[0m\u001b[0minput_dim\u001b[0m\u001b[1;33m=\u001b[0m\u001b[1;36m3\u001b[0m\u001b[1;33m,\u001b[0m \u001b[0mvariance\u001b[0m\u001b[1;33m=\u001b[0m\u001b[1;36m1.\u001b[0m\u001b[1;33m,\u001b[0m \u001b[0mlengthscale\u001b[0m\u001b[1;33m=\u001b[0m\u001b[1;36m1.\u001b[0m\u001b[1;33m)\u001b[0m\u001b[1;33m\u001b[0m\u001b[0m\n\u001b[0;32m      2\u001b[0m \u001b[1;33m\u001b[0m\u001b[0m\n\u001b[1;32m----> 3\u001b[1;33m \u001b[0mm\u001b[0m \u001b[1;33m=\u001b[0m \u001b[0mgp\u001b[0m\u001b[1;33m.\u001b[0m\u001b[0mmodels\u001b[0m\u001b[1;33m.\u001b[0m\u001b[0mGPRegression\u001b[0m\u001b[1;33m(\u001b[0m\u001b[0mtrain\u001b[0m\u001b[1;33m,\u001b[0m \u001b[0mtrain_t\u001b[0m\u001b[1;33m,\u001b[0m \u001b[0mkern\u001b[0m\u001b[1;33m)\u001b[0m\u001b[1;33m\u001b[0m\u001b[0m\n\u001b[0m\u001b[0;32m      4\u001b[0m \u001b[1;33m\u001b[0m\u001b[0m\n\u001b[0;32m      5\u001b[0m \u001b[1;32mfrom\u001b[0m \u001b[0mIPython\u001b[0m\u001b[1;33m.\u001b[0m\u001b[0mdisplay\u001b[0m \u001b[1;32mimport\u001b[0m \u001b[0mdisplay\u001b[0m\u001b[1;33m\u001b[0m\u001b[0m\n",
      "\u001b[1;31mNameError\u001b[0m: name 'train' is not defined"
     ]
    }
   ],
   "source": [
    "kern = gp.kern.RBF(input_dim=3, variance=1., lengthscale=1.)\n",
    "\n",
    "m = gp.models.GPRegression(train, train_t, kern)\n",
    "\n",
    "from IPython.display import display\n",
    "display(m)"
   ]
  },
  {
   "cell_type": "code",
   "execution_count": null,
   "metadata": {
    "collapsed": true
   },
   "outputs": [],
   "source": [
    "#m.optimize(messages=True)\n",
    "kern_p = gp.kern.StdPeriodic(3)\n",
    "m = gp.models.GPRegression(train, train_t, kern_p)\n",
    "display(m)"
   ]
  },
  {
   "cell_type": "code",
   "execution_count": null,
   "metadata": {
    "collapsed": true
   },
   "outputs": [],
   "source": []
  }
 ],
 "metadata": {
  "kernelspec": {
   "display_name": "Python 2",
   "language": "python",
   "name": "python2"
  },
  "language_info": {
   "codemirror_mode": {
    "name": "ipython",
    "version": 2
   },
   "file_extension": ".py",
   "mimetype": "text/x-python",
   "name": "python",
   "nbconvert_exporter": "python",
   "pygments_lexer": "ipython2",
   "version": "2.7.10"
  }
 },
 "nbformat": 4,
 "nbformat_minor": 0
}
