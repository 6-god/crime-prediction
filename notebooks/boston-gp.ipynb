{
 "cells": [
  {
   "cell_type": "code",
   "execution_count": 1,
   "metadata": {
    "collapsed": false
   },
   "outputs": [
    {
     "name": "stderr",
     "output_type": "stream",
     "text": [
      "/usr/local/lib/python2.7/dist-packages/matplotlib/__init__.py:872: UserWarning: axes.color_cycle is deprecated and replaced with axes.prop_cycle; please use the latter.\n",
      "  warnings.warn(self.msg_depr % (key, alt_key))\n"
     ]
    }
   ],
   "source": [
    "import numpy as np\n",
    "import pandas as pd\n",
    "import csv\n",
    "import sklearn.linear_model as lm\n",
    "import matplotlib.pyplot as plt\n",
    "import seaborn as sns\n",
    "import sys"
   ]
  },
  {
   "cell_type": "code",
   "execution_count": 2,
   "metadata": {
    "collapsed": false
   },
   "outputs": [],
   "source": [
    "'''\n",
    "Utility Functions\n",
    "'''\n",
    "# DATA: months since 2012, X coord, Y coord\n",
    "# if split size = 0, do non\n",
    "def split(X, tr_size):\n",
    "    n_col = np.shape(X)[1]\n",
    "    if tr_size != 0:\n",
    "        Y = np.copy(X)\n",
    "        np.random.shuffle(Y)\n",
    "        break_pt = tr_size * np.shape(X)[0]\n",
    "        train, test = Y[:break_pt,:], Y[break_pt:,:]\n",
    "    else:\n",
    "        break_pt = (3500./4400.) * np.shape(X)[0]\n",
    "        train, test = X[:break_pt,:], X[break_pt:,:]\n",
    "\n",
    "    tr_t, te_t = train[:,n_col-1], test[:,n_col-1]\n",
    "    tr, te = train[:,range(n_col-1)], test[:,range(n_col-1)]\n",
    "    return tr, tr_t, te, te_t\n",
    "\n",
    "# implementation notes: set NaN to mean\n",
    "def normalize_features(X_train):\n",
    "    mean_X_train = np.nanmean(X_train, 0)\n",
    "    for i in xrange(np.shape(X_train)[1]):\n",
    "        col = X_train[:,i]\n",
    "        col[ np.isnan(col) ] = mean_X_train[i]\n",
    "    std_X_train = np.std(X_train, 0)\n",
    "    std_X_train[ std_X_train == 0 ] = 1\n",
    "    X_train_normalized = (X_train - mean_X_train) / std_X_train\n",
    "    return X_train_normalized\n",
    "\n",
    "# Note: bucket edits in place\n",
    "def bucket(X, cols, num_buckets):\n",
    "    Y = np.copy(X)\n",
    "    for col in cols:\n",
    "        buckets = np.linspace(np.min(X[:,col]), np.max(X[:,col]), num=num_buckets+1)\n",
    "        for i in xrange(num_buckets):\n",
    "            X_col = Y[:,col]\n",
    "            X_col[ (buckets[i] <= X_col) & (X_col <= buckets[i+1])] = i\n",
    "            Y[:,col] = X_col\n",
    "    return Y\n",
    "\n",
    "def rmse(predict, true):\n",
    "    return np.sqrt(1.0/np.shape(predict)[0] * np.sum(np.square(predict - true)))"
   ]
  },
  {
   "cell_type": "code",
   "execution_count": 3,
   "metadata": {
    "collapsed": false
   },
   "outputs": [
    {
     "name": "stdout",
     "output_type": "stream",
     "text": [
      "('Warnings raised:', [<warnings.WarningMessage object at 0x7fd719a13310>])\n",
      "('Warning message:', 'Columns (10) have mixed types. Specify dtype option on import or set low_memory=False.')\n",
      "(\"Applying <type 'str'> dtype to columns:\", [10])\n"
     ]
    }
   ],
   "source": [
    "'''\n",
    "Read in data\n",
    "'''\n",
    "\n",
    "import re\n",
    "import warnings\n",
    "\n",
    "bos_file = '../data/boston.csv'\n",
    "target_type = str  # The desired output type\n",
    "\n",
    "with warnings.catch_warnings(record=True) as ws:\n",
    "    warnings.simplefilter(\"always\")\n",
    "\n",
    "    bos_data = pd.read_csv(bos_file, sep=\",\", header=0)\n",
    "    print(\"Warnings raised:\", ws)\n",
    "    # We have an error on specific columns, try and load them as string\n",
    "    for w in ws:\n",
    "        s = str(w.message)\n",
    "        print(\"Warning message:\", s)\n",
    "        match = re.search(r\"Columns \\(([0-9,]+)\\) have mixed types\\.\", s)\n",
    "        if match:\n",
    "            columns = match.group(1).split(',') # Get columns as a list\n",
    "            columns = [int(c) for c in columns]\n",
    "            print(\"Applying %s dtype to columns:\" % target_type, columns)\n",
    "            bos_data.iloc[:,columns] = bos_data.iloc[:,columns].astype(target_type)\n",
    "\n",
    "'''\n",
    "Featurize data\n",
    "'''\n",
    "# temporal features\n",
    "# day of week\n",
    "day = np.array(bos_data.DAY_WEEK)\n",
    "day[ day == \"Sunday\"] = 0\n",
    "day[ day == \"Monday\"] = 1\n",
    "day[ day == \"Tuesday\"] = 2\n",
    "day[ day == \"Wednesday\"] = 3\n",
    "day[ day == \"Thursday\"] = 4\n",
    "day[ day == \"Friday\"] = 5\n",
    "day[ day == \"Saturday\"] = 6\n",
    "\n",
    "# Split mm/dd/yyyy xx:yy:zz AM/PM into components\n",
    "date_time = np.array([x.split() for x in bos_data.FROMDATE])\n",
    "date = date_time[:,0]\n",
    "time = date_time[:,1]\n",
    "tod = date_time[:,2]\n",
    "\n",
    "# month, day, year\n",
    "date = np.array([x.split('/') for x in date])\n",
    "month = [int(x) for x in date[:,0]]\n",
    "dom = [int(x) for x in date[:,1]]\n",
    "year = [int(x) for x in date[:,2]]\n",
    "# months since Jan 2012\n",
    "time_feat = np.subtract(year, 2012)*12 + month\n",
    "\n",
    "# time of day\n",
    "time_c = [x.split(':') for x in time]\n",
    "time = [int(x[1]) if (y == 'AM' and int(x[0]) == 12) else 60*int(x[0])+int(x[1]) \n",
    "        if (y =='AM' and int(x[0]) != 12) or (int(x[0]) == 12 and y == 'PM') else 12*60+60*int(x[0])+int(x[1]) \n",
    "        for x,y in zip(time_c, tod)]\n",
    "\n",
    "# grab the features we want\n",
    "data_unnorm = np.transpose(np.vstack((time_feat, bos_data.X, bos_data.Y))).astype(float)\n",
    "# remove NaNs\n",
    "good_data = data_unnorm[~(np.isnan(data_unnorm[:,1]))]"
   ]
  },
  {
   "cell_type": "code",
   "execution_count": 4,
   "metadata": {
    "collapsed": false
   },
   "outputs": [
    {
     "data": {
      "text/plain": [
       "253075"
      ]
     },
     "execution_count": 4,
     "metadata": {},
     "output_type": "execute_result"
    }
   ],
   "source": [
    "len(good_data)"
   ]
  },
  {
   "cell_type": "code",
   "execution_count": 5,
   "metadata": {
    "collapsed": false
   },
   "outputs": [],
   "source": [
    "'''\n",
    "Count data for each cell. If logSpace is true, returns log values.\n",
    "'''\n",
    "def createBuckets(n_buckets = 15, logSpace = True):\n",
    "    data_b = bucket(good_data, [1, 2], n_buckets)\n",
    "\n",
    "    years = [2012, 2013, 2014, 2015]\n",
    "    n_time = int(data_b[np.argmax(data_b[:,0])][0])\n",
    "\n",
    "    # buckets = np.zeros((n_time, n_buckets, n_buckets))\n",
    "    buckets2 = np.zeros((n_buckets * n_buckets * n_time, 4))\n",
    "\n",
    "    # divide the data up by year and month\n",
    "    for i in xrange(n_time):\n",
    "        for j in xrange(n_buckets):\n",
    "            for k in xrange(n_buckets):\n",
    "                count = data_b[ (data_b[:,0] == i+1) & \n",
    "                                (data_b[:,1] == j) & \n",
    "                                (data_b[:,2] == k)]\n",
    "                # buckets[i][j][k] = np.size(count,0)\n",
    "                buckets2[i*(n_buckets * n_buckets)+j*(n_buckets)+k][0] = i\n",
    "                buckets2[i*(n_buckets * n_buckets)+j*(n_buckets)+k][1] = j\n",
    "                buckets2[i*(n_buckets * n_buckets)+j*(n_buckets)+k][2] = k\n",
    "                buckets2[i*(n_buckets * n_buckets)+j*(n_buckets)+k][3] = np.size(count,0)\n",
    "    print np.shape(buckets2)\n",
    "    \n",
    "    if logSpace:\n",
    "        buckets2[:,3] = np.log(np.add(sys.float_info.epsilon, buckets2[:,3]))\n",
    "    \n",
    "    return buckets2"
   ]
  },
  {
   "cell_type": "code",
   "execution_count": 18,
   "metadata": {
    "collapsed": false
   },
   "outputs": [],
   "source": [
    "'''\n",
    "Our GP\n",
    "    other implementations:\n",
    "    - scikit-learn\n",
    "    - GPy\n",
    "'''\n",
    "\n",
    "# compute the kernel matrix\n",
    "# use square exponential by default\n",
    "def ker_se(x, y, l, horz = 1.0):\n",
    "    \n",
    "    n = np.shape(x)[0]\n",
    "    m = np.shape(y)[0]\n",
    "    \n",
    "    t = np.reshape(x, (np.shape(x)[0], 1, np.shape(x)[1]))\n",
    "    s = np.reshape(y, (1, np.shape(y)[0], np.shape(y)[1]))\n",
    "\n",
    "    # tile across columns\n",
    "    cols = np.tile(t, (1, m, 1))\n",
    "    # tile across rows\n",
    "    rows = np.tile(s, (n, 1, 1))\n",
    "    # get the differences and vectorize\n",
    "    diff_vec = np.reshape(cols - rows, (n*m, np.shape(t)[2]))\n",
    "    \n",
    "    M = np.diag(l)\n",
    "    \n",
    "    # use multiply and sum to calculate matrix product\n",
    "    s = np.multiply(-.5, np.sum(np.multiply(diff_vec, np.transpose(np.dot(M, np.transpose(diff_vec)))), axis=1))\n",
    "    se = np.reshape(np.multiply(horz, np.exp(s)), (n, m))\n",
    "    \n",
    "    return se\n",
    "\n",
    "# p is wavelength\n",
    "def ker_per(x, y, l, p, horz = 1.0):\n",
    "    \n",
    "    n = np.shape(x)[0]\n",
    "    m = np.shape(y)[0]\n",
    "    \n",
    "    t = np.reshape(x, (np.shape(x)[0], 1, np.shape(x)[1]))\n",
    "    s = np.reshape(y, (1, np.shape(y)[0], np.shape(y)[1]))\n",
    "\n",
    "    # tile across columns\n",
    "    cols = np.tile(t, (1, m, 1))\n",
    "    # tile across rows\n",
    "    rows = np.tile(s, (n, 1, 1))\n",
    "    # get the differences and vectorize\n",
    "    diff_vec = np.reshape(cols - rows, (n*m, np.shape(t)[2]))\n",
    "    \n",
    "    P = np.diag(p)\n",
    "    M = np.diag(l)\n",
    "    \n",
    "    # sig^2 exp{ -.5 sum( (sin(pi/p |x - x'|)/l)^2 ) }\n",
    "    sin = np.square(np.dot(np.sin(np.dot(np.multiply(np.pi, diff_vec), P)), M))\n",
    "    exp = np.multiply(-.5, np.sum(sin, axis=1))\n",
    "    #print np.sum(sin, axis=1)\n",
    "    per = np.reshape(np.multiply(horz, np.exp(exp)), (n, m))\n",
    "    \n",
    "    return per"
   ]
  },
  {
   "cell_type": "code",
   "execution_count": 21,
   "metadata": {
    "collapsed": false
   },
   "outputs": [
    {
     "name": "stdout",
     "output_type": "stream",
     "text": [
      "[  0.00000000e+00   1.00000000e+00   1.49975978e-32 ...,   1.49975978e-32\n",
      "   1.00000000e+00   0.00000000e+00]\n",
      "[[ 1.          0.60653066  1.         ...,  0.36787944  0.60653066\n",
      "   0.36787944]\n",
      " [ 0.60653066  1.          0.60653066 ...,  0.60653066  0.36787944\n",
      "   0.60653066]\n",
      " [ 1.          0.60653066  1.         ...,  0.36787944  0.60653066\n",
      "   0.36787944]\n",
      " ..., \n",
      " [ 0.36787944  0.60653066  0.36787944 ...,  1.          0.60653066  1.        ]\n",
      " [ 0.60653066  0.36787944  0.60653066 ...,  0.60653066  1.          0.60653066]\n",
      " [ 0.36787944  0.60653066  0.36787944 ...,  1.          0.60653066  1.        ]]\n"
     ]
    }
   ],
   "source": [
    "t = ker_per(train, train, np.ones(3), np.ones(3)*.5)\n",
    "print t"
   ]
  },
  {
   "cell_type": "code",
   "execution_count": 29,
   "metadata": {
    "collapsed": false
   },
   "outputs": [],
   "source": [
    "kern = gp.kern.StdPeriodic(input_dim=3, wavelength=np.ones(3), lengthscale=np.ones(3)*2, ARD1 = True, ARD2 = True)\n",
    "k = kern.K(train)"
   ]
  },
  {
   "cell_type": "code",
   "execution_count": 30,
   "metadata": {
    "collapsed": false
   },
   "outputs": [
    {
     "name": "stdout",
     "output_type": "stream",
     "text": [
      "[[ 1.  1.  1. ...,  1.  1.  1.]\n",
      " [ 1.  1.  1. ...,  1.  1.  1.]\n",
      " [ 1.  1.  1. ...,  1.  1.  1.]\n",
      " ..., \n",
      " [ 1.  1.  1. ...,  1.  1.  1.]\n",
      " [ 1.  1.  1. ...,  1.  1.  1.]\n",
      " [ 1.  1.  1. ...,  1.  1.  1.]]\n",
      "[[ 1.          0.60653066  1.         ...,  0.36787944  0.60653066\n",
      "   0.36787944]\n",
      " [ 0.60653066  1.          0.60653066 ...,  0.60653066  0.36787944\n",
      "   0.60653066]\n",
      " [ 1.          0.60653066  1.         ...,  0.36787944  0.60653066\n",
      "   0.36787944]\n",
      " ..., \n",
      " [ 0.36787944  0.60653066  0.36787944 ...,  1.          0.60653066  1.        ]\n",
      " [ 0.60653066  0.36787944  0.60653066 ...,  0.60653066  1.          0.60653066]\n",
      " [ 0.36787944  0.60653066  0.36787944 ...,  1.          0.60653066  1.        ]]\n"
     ]
    }
   ],
   "source": [
    "print k\n",
    "print t"
   ]
  },
  {
   "cell_type": "code",
   "execution_count": 7,
   "metadata": {
    "collapsed": false
   },
   "outputs": [],
   "source": [
    "'''\n",
    "Calculate kernels\n",
    "'''\n",
    "def GaussianProcess(train, train_t, test, test_t, l,\n",
    "                    horz, sig_eps, predict=True, rmse=True, ker='se'):\n",
    "    # Try to be memory efficient by deleting data after use!\n",
    "    if ker == 'se':\n",
    "        ker_fun = ker_se\n",
    "    else:\n",
    "        raise Exception(\"Kernal {} Not Supported!\".format(ker))\n",
    "        \n",
    "    ker1 = ker_fun(train, train, l, horz)\n",
    "    L = np.linalg.cholesky(ker1 + np.multiply(sig_eps, np.identity(np.shape(ker1)[0])))\n",
    "    \n",
    "    alpha = np.linalg.solve(L.T, np.linalg.solve(L, train_t))\n",
    "    \n",
    "    # Only do this if we request the predictions or rmse\n",
    "    ret = []\n",
    "    if predict or rmse:\n",
    "        ker2 = ker_fun(train,test, l, horz)\n",
    "        preds = np.dot(np.transpose(ker2), alpha)\n",
    "        del ker2\n",
    "        ret.append(preds)\n",
    "        \n",
    "    \n",
    "    # Only if we request the rmse\n",
    "    if rmse:\n",
    "        npreds = preds / float(preds.sum())\n",
    "        ntest_t = test_t / float(test_t.sum())\n",
    "        rmse_val = np.sqrt(np.sum(np.square(npreds - ntest_t))/np.shape(preds)[0])\n",
    "        print rmse\n",
    "        ret.append(rmse_val)\n",
    "        \n",
    "    # Calculate the marginal likelihood\n",
    "    likelihood = -.5 * np.dot(np.transpose(train_t), alpha) - np.sum(np.log(np.diagonal(L))) - np.shape(ker1)[0]/2 * np.log(2*np.pi)\n",
    "    ret.append(likelihood)\n",
    "    \n",
    "    del alpha\n",
    "    del L\n",
    "    del ker1\n",
    "    \n",
    "    return tuple(ret)\n"
   ]
  },
  {
   "cell_type": "code",
   "execution_count": 7,
   "metadata": {
    "collapsed": false
   },
   "outputs": [],
   "source": [
    "columns = { 't' : 0, 'x' : 1, 'y' : 2, 'count' : 3}\n",
    "def createHeatMap(X):\n",
    "    '''\n",
    "    Given a data set, creates a heatmap of it based on x,y coordinates.\n",
    "    Ignore the temporal feature. You should subset the data before passing\n",
    "    it into this function if you'd like a heatmap for a specific time period.\n",
    "    '''\n",
    "    n = X[:, columns['x']].astype(int).max()\n",
    "    m = X[:, columns['y']].astype(int).max()\n",
    "    heatmap = np.zeros((n,m))\n",
    "    for i in xrange(n):\n",
    "        for j in xrange(m):\n",
    "            total = X[(X[:, columns['x']] == i) & \n",
    "                      (X[:, columns['y']] == j), columns['count']].sum()\n",
    "            if total > 0:\n",
    "                heatmap[i,j] = total\n",
    "    heatmap = heatmap / float(heatmap.sum())\n",
    "    return heatmap"
   ]
  },
  {
   "cell_type": "code",
   "execution_count": 8,
   "metadata": {
    "collapsed": false
   },
   "outputs": [],
   "source": [
    "# Make some plots for n = 15 for GP process\n",
    "def plotDistribution(predict, true, city, n, process='GP'):\n",
    "    minValue = min(len(predict), 100)\n",
    "    yPred = predict[-minValue:]\n",
    "    yTrue = true[-minValue:]\n",
    "    yPred = yPred / float(np.sum(yPred))\n",
    "    yTrue = yTrue / float(np.sum(yTrue))\n",
    "    plt.clf()\n",
    "    plt.plot(yPred, label=\"Predictions\")\n",
    "    plt.plot(yTrue, label=\"Actual Data\")\n",
    "    plt.title('Predictive Distribution for {}'.format(process))\n",
    "    plt.xlabel('Compressed Features')\n",
    "    plt.ylabel('Probability')\n",
    "    plt.legend()\n",
    "    plt.savefig('../figures/{}_results/{}_n={}_periods={}.png'.format(\n",
    "        city, process, n,12))\n",
    "    plt.close()"
   ]
  },
  {
   "cell_type": "code",
   "execution_count": 9,
   "metadata": {
    "collapsed": false
   },
   "outputs": [],
   "source": [
    "def plotHeatMaps(X_test, predict, city, n, process='GP'):\n",
    "    # Attach the predictions to the data\n",
    "    trueValues = np.copy(X_test)\n",
    "    predictedValues = np.copy(X_test)\n",
    "    predictedValues[:, columns['count']] = predict\n",
    "\n",
    "    # Now we want to plot the heatmaps for the predictions/actual data\n",
    "    # by time period\n",
    "    months = np.unique(X_test[:, columns['t']])\n",
    "    for month in months:\n",
    "        # Create the heatmaps \n",
    "        selected = (X_test[:, columns['t']] == month)\n",
    "        if selected.sum() > 0:\n",
    "            plt.clf()\n",
    "            m = createHeatMap(trueValues[selected, :])\n",
    "            if m.sum() > 0:\n",
    "                sns.heatmap(m)\n",
    "                plt.title('True Density Distribution in Month {}'.format(month))\n",
    "                plt.savefig('../figures/{}_results/{}_heatmap_true_n={}_t={}.png'.format(\n",
    "                    city, process, n, month))\n",
    "                plt.close()\n",
    "\n",
    "            plt.clf()\n",
    "            m = createHeatMap(predictedValues[selected, :])\n",
    "            if m.sum() > 0:\n",
    "                sns.heatmap(m)\n",
    "                plt.title('Predicted Density Distribution in Month {}'.format(month))\n",
    "                plt.savefig('../figures/{}_results/{}_heatmap_pred_n={}_t={}.png'.format(\n",
    "                    city, process, n, month))\n",
    "                plt.close()"
   ]
  },
  {
   "cell_type": "code",
   "execution_count": 10,
   "metadata": {
    "collapsed": false
   },
   "outputs": [
    {
     "name": "stdout",
     "output_type": "stream",
     "text": [
      "(4400, 4)\n",
      "CPU times: user 14.4 s, sys: 0 ns, total: 14.4 s\n",
      "Wall time: 14.4 s\n",
      "CPU times: user 0 ns, sys: 0 ns, total: 0 ns\n",
      "Wall time: 4.93 ms\n"
     ]
    },
    {
     "name": "stderr",
     "output_type": "stream",
     "text": [
      "/usr/local/lib/python2.7/dist-packages/ipykernel/__main__.py:15: DeprecationWarning: using a non-integer number instead of an integer will result in an error in the future\n"
     ]
    }
   ],
   "source": [
    "log = False\n",
    "%time data = createBuckets(n_buckets=10, logSpace=log)  # default is 15, logSpace=True\n",
    "%time train, train_t, test, test_t = split(data, 0)\n",
    "sig_eps = train_t.std()"
   ]
  },
  {
   "cell_type": "code",
   "execution_count": null,
   "metadata": {
    "collapsed": false
   },
   "outputs": [],
   "source": [
    "# These are the optimal parameters for n = 10 (we can try with other values too)\n",
    "l = [9620.11949755, 9620.11949755, 9620.11949755]\n",
    "horz = 0.82754075018\n",
    "sig_eps = train_t.std()\n",
    "%time predictions, rmse, likelihood = GaussianProcess(train, train_t, test, test_t, l, horz, sig_eps)"
   ]
  },
  {
   "cell_type": "code",
   "execution_count": null,
   "metadata": {
    "collapsed": true
   },
   "outputs": [],
   "source": [
    "# Only do the below if logspace !\n",
    "if log:\n",
    "    test_t = np.exp(test_t)\n",
    "    predictions = np.exp(predictions)"
   ]
  },
  {
   "cell_type": "code",
   "execution_count": null,
   "metadata": {
    "collapsed": false
   },
   "outputs": [],
   "source": [
    "plotDistribution(predictions, test_t, 'boston', 15, process='GPSEOptimzied')"
   ]
  },
  {
   "cell_type": "code",
   "execution_count": null,
   "metadata": {
    "collapsed": false
   },
   "outputs": [],
   "source": [
    "np.diag([1,2,3])"
   ]
  },
  {
   "cell_type": "code",
   "execution_count": 69,
   "metadata": {
    "collapsed": true
   },
   "outputs": [],
   "source": [
    "X_test = np.zeros((test.shape[0], test.shape[1] + 1)).astype(int)\n",
    "X_test[:,:-1] = test\n",
    "X_test[:,-1] = test_t"
   ]
  },
  {
   "cell_type": "code",
   "execution_count": null,
   "metadata": {
    "collapsed": false
   },
   "outputs": [],
   "source": [
    "plotHeatMaps(X_test, predictions, 'boston', 15, process='GPSELog')"
   ]
  },
  {
   "cell_type": "code",
   "execution_count": null,
   "metadata": {
    "collapsed": true
   },
   "outputs": [],
   "source": [
    "'''\n",
    "Easier method for calling our GP model! Kernal defaults to SE.\n",
    "'''\n",
    "def optimizeGaussianProcess(n, l1, l2, l3, horz, sig_eps,\n",
    "                            log=False):\n",
    "    # Bucketize the data as specified! By default, does Boston data.\n",
    "    data = createBuckets(n, logSpace=log)\n",
    "    \n",
    "    # Split for latest year.\n",
    "    train, train_t, test, test_t = split(data, 0)\n",
    "    \n",
    "    # Calculate the likelihood\n",
    "    l = [l1,l2,l3]\n",
    "    likelihood = GaussianProcess(train, train_t, test, test_t,\n",
    "                                 l, horz, sig_eps,\n",
    "                                 predict = False, rmse = False)\n",
    "    return likelihood"
   ]
  },
  {
   "cell_type": "code",
   "execution_count": null,
   "metadata": {
    "collapsed": false
   },
   "outputs": [],
   "source": [
    "# Collect likelihoods for different n values\n",
    "testN = range(2,10) + range(10,20,5)\n",
    "likelihoods = []\n",
    "for n in testN:\n",
    "    likelihood = optimizeGaussianProcess(n, 1.0, 1.0, 1.0, 1.0, 1.0,\n",
    "                                        log=False)\n",
    "    likelihoods.append(likelihood)"
   ]
  },
  {
   "cell_type": "code",
   "execution_count": null,
   "metadata": {
    "collapsed": false
   },
   "outputs": [],
   "source": [
    "x = testN\n",
    "y = likelihoods\n",
    "line1 = plt.plot(x, y, label=\"Log Likelihood\")\n",
    "plt.title('GP Predictions for Boston')\n",
    "plt.xlabel('Dimension of Grid')\n",
    "plt.ylabel('Log Likelihood')\n",
    "plt.legend()\n",
    "plt.show()"
   ]
  },
  {
   "cell_type": "code",
   "execution_count": 11,
   "metadata": {
    "collapsed": false
   },
   "outputs": [],
   "source": [
    "train_t = train_t.reshape((train_t.shape[0], 1))"
   ]
  },
  {
   "cell_type": "code",
   "execution_count": 12,
   "metadata": {
    "collapsed": true
   },
   "outputs": [],
   "source": [
    "'''\n",
    "Smart GP\n",
    "'''\n",
    "\n",
    "import GPy as gp"
   ]
  },
  {
   "cell_type": "code",
   "execution_count": 13,
   "metadata": {
    "collapsed": true
   },
   "outputs": [],
   "source": [
    "kern = gp.kern.RBF(input_dim=3, variance=1., lengthscale=1.)"
   ]
  },
  {
   "cell_type": "code",
   "execution_count": 14,
   "metadata": {
    "collapsed": true
   },
   "outputs": [],
   "source": [
    "from IPython.display import display"
   ]
  },
  {
   "cell_type": "code",
   "execution_count": 15,
   "metadata": {
    "collapsed": false
   },
   "outputs": [
    {
     "name": "stdout",
     "output_type": "stream",
     "text": [
      "CPU times: user 35.8 s, sys: 228 ms, total: 36 s\n",
      "Wall time: 36 s\n"
     ]
    }
   ],
   "source": [
    "train_t = train_t.reshape((train_t.shape[0], 1))\n",
    "%time m = gp.models.GPRegression(train, train_t, kern)"
   ]
  },
  {
   "cell_type": "code",
   "execution_count": 23,
   "metadata": {
    "collapsed": false
   },
   "outputs": [
    {
     "data": {
      "text/html": [
       "<style type=\"text/css\">\n",
       ".pd{\n",
       "    font-family: \"Courier New\", Courier, monospace !important;\n",
       "    width: 100%;\n",
       "    padding: 3px;\n",
       "}\n",
       "</style>\n",
       "\n",
       "<p class=pd>\n",
       "<b>Model</b>: GP regression<br>\n",
       "<b>Log-likelihood</b>: -19568.7972008<br>\n",
       "<b>Number of Parameters</b>: 3<br>\n",
       "<b>Number of Optimization Parameters</b>: 2<br>\n",
       "<b>Updates</b>: True<br>\n",
       "</p>\n",
       "<style type=\"text/css\">\n",
       ".tg  {font-family:\"Courier New\", Courier, monospace !important;padding:2px 3px;word-break:normal;border-collapse:collapse;border-spacing:0;border-color:#DCDCDC;margin:0px auto;width:100%;}\n",
       ".tg td{font-family:\"Courier New\", Courier, monospace !important;font-weight:bold;color:#444;background-color:#F7FDFA;border-style:solid;border-width:1px;overflow:hidden;word-break:normal;border-color:#DCDCDC;}\n",
       ".tg th{font-family:\"Courier New\", Courier, monospace !important;font-weight:normal;color:#fff;background-color:#26ADE4;border-style:solid;border-width:1px;overflow:hidden;word-break:normal;border-color:#DCDCDC;}\n",
       ".tg .tg-left{font-family:\"Courier New\", Courier, monospace !important;font-weight:normal;text-align:left;}\n",
       ".tg .tg-right{font-family:\"Courier New\", Courier, monospace !important;font-weight:normal;text-align:right;}\n",
       "</style>\n",
       "<table class=\"tg\">\n",
       "<tr>\n",
       "  <th><b>GP_regression.</b></th>\n",
       "  <th><b>Value</b></th>\n",
       "  <th><b>Constraint</b></th>\n",
       "  <th><b>Prior</b></th>\n",
       "  <th><b>Tied to</b></th>\n",
       "</tr>\n",
       "<tr><td class=tg-left>rbf.variance           </td><td class=tg-right>9620.11949755</td><td class=tg-left>   +ve    </td><td class=tg-left>     </td><td class=tg-left>       </td></tr>\n",
       "<tr><td class=tg-left>rbf.lengthscale        </td><td class=tg-right>0.82754075018</td><td class=tg-left>   +ve    </td><td class=tg-left>     </td><td class=tg-left>       </td></tr>\n",
       "<tr><td class=tg-left>Gaussian_noise.variance</td><td class=tg-right>121.977861302</td><td class=tg-left>  fixed   </td><td class=tg-left>     </td><td class=tg-left>       </td></tr>\n",
       "</table>"
      ],
      "text/plain": [
       "<GPy.models.gp_regression.GPRegression at 0x7f5d2e66f810>"
      ]
     },
     "metadata": {},
     "output_type": "display_data"
    }
   ],
   "source": [
    "display(m)"
   ]
  },
  {
   "cell_type": "code",
   "execution_count": 17,
   "metadata": {
    "collapsed": false
   },
   "outputs": [
    {
     "name": "stdout",
     "output_type": "stream",
     "text": [
      "WARNING: reconstraining parameters GP_regression.Gaussian_noise.variance\n"
     ]
    },
    {
     "data": {
      "text/plain": [
       "array([0])"
      ]
     },
     "execution_count": 17,
     "metadata": {},
     "output_type": "execute_result"
    }
   ],
   "source": [
    "# We fix the Gaussian_noise.variance to the std of the training data!\n",
    "m.Gaussian_noise.variance.constrain_fixed(train_t.std())"
   ]
  },
  {
   "cell_type": "code",
   "execution_count": 18,
   "metadata": {
    "collapsed": false
   },
   "outputs": [
    {
     "data": {
      "text/html": [
       "<style type=\"text/css\">\n",
       ".pd{\n",
       "    font-family: \"Courier New\", Courier, monospace !important;\n",
       "    width: 100%;\n",
       "    padding: 3px;\n",
       "}\n",
       "</style>\n",
       "\n",
       "<p class=pd>\n",
       "<b>Model</b>: GP regression<br>\n",
       "<b>Log-likelihood</b>: -255637.788137<br>\n",
       "<b>Number of Parameters</b>: 3<br>\n",
       "<b>Number of Optimization Parameters</b>: 2<br>\n",
       "<b>Updates</b>: True<br>\n",
       "</p>\n",
       "<style type=\"text/css\">\n",
       ".tg  {font-family:\"Courier New\", Courier, monospace !important;padding:2px 3px;word-break:normal;border-collapse:collapse;border-spacing:0;border-color:#DCDCDC;margin:0px auto;width:100%;}\n",
       ".tg td{font-family:\"Courier New\", Courier, monospace !important;font-weight:bold;color:#444;background-color:#F7FDFA;border-style:solid;border-width:1px;overflow:hidden;word-break:normal;border-color:#DCDCDC;}\n",
       ".tg th{font-family:\"Courier New\", Courier, monospace !important;font-weight:normal;color:#fff;background-color:#26ADE4;border-style:solid;border-width:1px;overflow:hidden;word-break:normal;border-color:#DCDCDC;}\n",
       ".tg .tg-left{font-family:\"Courier New\", Courier, monospace !important;font-weight:normal;text-align:left;}\n",
       ".tg .tg-right{font-family:\"Courier New\", Courier, monospace !important;font-weight:normal;text-align:right;}\n",
       "</style>\n",
       "<table class=\"tg\">\n",
       "<tr>\n",
       "  <th><b>GP_regression.</b></th>\n",
       "  <th><b>Value</b></th>\n",
       "  <th><b>Constraint</b></th>\n",
       "  <th><b>Prior</b></th>\n",
       "  <th><b>Tied to</b></th>\n",
       "</tr>\n",
       "<tr><td class=tg-left>rbf.variance           </td><td class=tg-right>          1.0</td><td class=tg-left>   +ve    </td><td class=tg-left>     </td><td class=tg-left>       </td></tr>\n",
       "<tr><td class=tg-left>rbf.lengthscale        </td><td class=tg-right>          1.0</td><td class=tg-left>   +ve    </td><td class=tg-left>     </td><td class=tg-left>       </td></tr>\n",
       "<tr><td class=tg-left>Gaussian_noise.variance</td><td class=tg-right>121.977861302</td><td class=tg-left>  fixed   </td><td class=tg-left>     </td><td class=tg-left>       </td></tr>\n",
       "</table>"
      ],
      "text/plain": [
       "<GPy.models.gp_regression.GPRegression at 0x7f5d2e66f810>"
      ]
     },
     "metadata": {},
     "output_type": "display_data"
    }
   ],
   "source": [
    "display(m)"
   ]
  },
  {
   "cell_type": "code",
   "execution_count": 19,
   "metadata": {
    "collapsed": false
   },
   "outputs": [
    {
     "name": "stdout",
     "output_type": "stream",
     "text": [
      "Running L-BFGS-B (Scipy implementation) Code:\n",
      "  runtime   i     f              |g|        \n",
      " 01m41s33  003   1.828626e+05   1.036901e+08 \n",
      " 06m17s03  011   1.132581e+05   4.204292e+06 \n",
      " 11m12s18  019   3.683976e+04   1.680878e+06 \n",
      " 14m30s40  023   2.332072e+04   1.253264e+05 \n",
      " 16m51s87  026   2.043403e+04   8.851823e+02 \n",
      " 21m58s19  033   1.957740e+04   5.003234e+02 \n",
      " 25m00s42  037   1.956880e+04   1.271713e-04 \n",
      " 26m28s39  039   1.956880e+04   3.079244e-09 \n",
      "Runtime:  26m28s39\n",
      "Optimization status: Converged\n",
      "\n"
     ]
    },
    {
     "name": "stderr",
     "output_type": "stream",
     "text": [
      " /usr/local/lib/python2.7/dist-packages/IPython/html.py:14: ShimWarning:The `IPython.html` package has been deprecated. You should import from `notebook` instead. `IPython.html.widgets` has moved to `ipywidgets`.\n"
     ]
    }
   ],
   "source": [
    "# We're going to constrain some \n",
    "m.optimize(messages=True, max_iters=100)\n",
    "# Total of 110 iterations are being run :)"
   ]
  },
  {
   "cell_type": "code",
   "execution_count": 20,
   "metadata": {
    "collapsed": false
   },
   "outputs": [
    {
     "data": {
      "text/html": [
       "<style type=\"text/css\">\n",
       ".pd{\n",
       "    font-family: \"Courier New\", Courier, monospace !important;\n",
       "    width: 100%;\n",
       "    padding: 3px;\n",
       "}\n",
       "</style>\n",
       "\n",
       "<p class=pd>\n",
       "<b>Model</b>: GP regression<br>\n",
       "<b>Log-likelihood</b>: -19568.7972008<br>\n",
       "<b>Number of Parameters</b>: 3<br>\n",
       "<b>Number of Optimization Parameters</b>: 2<br>\n",
       "<b>Updates</b>: True<br>\n",
       "</p>\n",
       "<style type=\"text/css\">\n",
       ".tg  {font-family:\"Courier New\", Courier, monospace !important;padding:2px 3px;word-break:normal;border-collapse:collapse;border-spacing:0;border-color:#DCDCDC;margin:0px auto;width:100%;}\n",
       ".tg td{font-family:\"Courier New\", Courier, monospace !important;font-weight:bold;color:#444;background-color:#F7FDFA;border-style:solid;border-width:1px;overflow:hidden;word-break:normal;border-color:#DCDCDC;}\n",
       ".tg th{font-family:\"Courier New\", Courier, monospace !important;font-weight:normal;color:#fff;background-color:#26ADE4;border-style:solid;border-width:1px;overflow:hidden;word-break:normal;border-color:#DCDCDC;}\n",
       ".tg .tg-left{font-family:\"Courier New\", Courier, monospace !important;font-weight:normal;text-align:left;}\n",
       ".tg .tg-right{font-family:\"Courier New\", Courier, monospace !important;font-weight:normal;text-align:right;}\n",
       "</style>\n",
       "<table class=\"tg\">\n",
       "<tr>\n",
       "  <th><b>GP_regression.</b></th>\n",
       "  <th><b>Value</b></th>\n",
       "  <th><b>Constraint</b></th>\n",
       "  <th><b>Prior</b></th>\n",
       "  <th><b>Tied to</b></th>\n",
       "</tr>\n",
       "<tr><td class=tg-left>rbf.variance           </td><td class=tg-right>9620.11949755</td><td class=tg-left>   +ve    </td><td class=tg-left>     </td><td class=tg-left>       </td></tr>\n",
       "<tr><td class=tg-left>rbf.lengthscale        </td><td class=tg-right>0.82754075018</td><td class=tg-left>   +ve    </td><td class=tg-left>     </td><td class=tg-left>       </td></tr>\n",
       "<tr><td class=tg-left>Gaussian_noise.variance</td><td class=tg-right>121.977861302</td><td class=tg-left>  fixed   </td><td class=tg-left>     </td><td class=tg-left>       </td></tr>\n",
       "</table>"
      ],
      "text/plain": [
       "<GPy.models.gp_regression.GPRegression at 0x7f5d2e66f810>"
      ]
     },
     "metadata": {},
     "output_type": "display_data"
    }
   ],
   "source": [
    "display(m)"
   ]
  },
  {
   "cell_type": "code",
   "execution_count": 21,
   "metadata": {
    "collapsed": true
   },
   "outputs": [],
   "source": [
    "predictions_optimal = m.predict(test)"
   ]
  },
  {
   "cell_type": "code",
   "execution_count": 22,
   "metadata": {
    "collapsed": false
   },
   "outputs": [],
   "source": [
    "preds2 = predictions_optimal[0]"
   ]
  },
  {
   "cell_type": "code",
   "execution_count": null,
   "metadata": {
    "collapsed": true
   },
   "outputs": [],
   "source": [
    "plotDistribution(preds2, test_t, 'boston', 10, process='GPSEOptimized2')"
   ]
  },
  {
   "cell_type": "code",
   "execution_count": 24,
   "metadata": {
    "collapsed": false
   },
   "outputs": [
    {
     "data": {
      "text/plain": [
       "(900, 900)"
      ]
     },
     "execution_count": 24,
     "metadata": {},
     "output_type": "execute_result"
    }
   ],
   "source": [
    "len(preds2), len(test_t)"
   ]
  },
  {
   "cell_type": "code",
   "execution_count": 25,
   "metadata": {
    "collapsed": false,
    "scrolled": true
   },
   "outputs": [],
   "source": [
    "process = 'GPSEOptimzed2'\n",
    "city = 'boston'\n",
    "n = 10\n",
    "minValue = min(len(preds2), 100)\n",
    "yPred = preds2[-minValue:]\n",
    "yTrue = test_t[-minValue:]\n",
    "yPred = yPred / float(np.sum(yPred))\n",
    "yTrue = yTrue / float(np.sum(yTrue))"
   ]
  },
  {
   "cell_type": "code",
   "execution_count": 26,
   "metadata": {
    "collapsed": false
   },
   "outputs": [],
   "source": [
    "plt.clf()\n",
    "plt.plot(yPred, label=\"Predictions\")\n",
    "plt.plot(yTrue, label=\"Actual Data\")\n",
    "plt.title('Predictive Distribution for {}'.format('process'))\n",
    "plt.xlabel('Compressed Features')\n",
    "plt.ylabel('Probability')\n",
    "plt.legend()\n",
    "plt.savefig('../figures/{}_results/{}_n={}_periods={}.png'.format(\n",
    "    city, process, n,12))\n",
    "plt.close()"
   ]
  },
  {
   "cell_type": "code",
   "execution_count": 28,
   "metadata": {
    "collapsed": false
   },
   "outputs": [
    {
     "data": {
      "text/plain": [
       "[<matplotlib.lines.Line2D at 0x7f5c0c06d210>]"
      ]
     },
     "execution_count": 28,
     "metadata": {},
     "output_type": "execute_result"
    }
   ],
   "source": [
    "plt.plot(yPred)"
   ]
  },
  {
   "cell_type": "code",
   "execution_count": 32,
   "metadata": {
    "collapsed": true
   },
   "outputs": [],
   "source": [
    "% matplotlib inline\n",
    "plt.show()"
   ]
  },
  {
   "cell_type": "code",
   "execution_count": 31,
   "metadata": {
    "collapsed": false
   },
   "outputs": [],
   "source": [
    "plt.close()"
   ]
  },
  {
   "cell_type": "code",
   "execution_count": 33,
   "metadata": {
    "collapsed": false
   },
   "outputs": [
    {
     "data": {
      "text/plain": [
       "array([   0.,   11.,   33.,   18.,    4.,    0.,   18.,   41.,    0.,\n",
       "          0.,    5.,   21.,   37.,   52.,    0.,    0.,  112.,  142.,\n",
       "          2.,    0.,   46.,  101.,   81.,  115.,   38.,   14.,    4.,\n",
       "        149.,    0.,    0.,    0.,   24.,  115.,   34.,  115.,  251.,\n",
       "        209.,   26.,    0.,    0.,    0.,    0.,  127.,  362.,  394.,\n",
       "        402.,  512.,  245.,    0.,   11.,    0.,    0.,   57.,  235.,\n",
       "        364.,  255.,  220.,  655.,  204.,   15.,    0.,    0.,    3.,\n",
       "         37.,    7.,   46.,  137.,   24.,  187.,   38.,    0.,    0.,\n",
       "          0.,    0.,    0.,    0.,    6.,    1.,   11.,   49.,    0.,\n",
       "          0.,    0.,    0.,    0.,    0.,    0.,    0.,    0.,   12.,\n",
       "          0.,    0.,    0.,    0.,    2.,    0.,    0.,    0.,    0.,\n",
       "          0.,    0.,    4.,   19.,   22.,    3.,    0.,   17.,   30.,\n",
       "          0.,    0.,    7.,   30.,   30.,   45.,    1.,    0.,   78.,\n",
       "        145.,    1.,    0.,   35.,  135.,   88.,   91.,   34.,    4.,\n",
       "          6.,  124.,    0.,    0.,    1.,   27.,  121.,   41.,  117.,\n",
       "        215.,  192.,   23.,    0.,    0.,    0.,    0.,  124.,  298.,\n",
       "        314.,  316.,  407.,  193.,    1.,    9.,    0.,    0.,   47.,\n",
       "        176.,  327.,  194.,  188.,  580.,  170.,    5.,    0.,    0.,\n",
       "          1.,   31.,    1.,   14.,  134.,   11.,  158.,   40.,    0.,\n",
       "          0.,    0.,    0.,    0.,    0.,   10.,    0.,    6.,   45.,\n",
       "          0.,    0.,    0.,    0.,    0.,    0.,    0.,    0.,    0.,\n",
       "         12.,    0.,    0.,    0.,    0.,    0.,    0.,    0.,    0.,\n",
       "          0.,    0.,    0.,   10.,   34.,   15.,    2.,    0.,   12.,\n",
       "         58.,    0.,    0.,    6.,   27.,   40.,   78.,    3.,    0.,\n",
       "        112.,  153.,    1.,    0.,   39.,  121.,   72.,  115.,   38.,\n",
       "          5.,    3.,  141.,    0.,    0.,    0.,   35.,  103.,   48.,\n",
       "        105.,  219.,  191.,   18.,    0.,    0.,    0.,    0.,  112.,\n",
       "        298.,  282.,  280.,  368.,  163.,    4.,    9.,    0.,    0.,\n",
       "         34.,  236.,  287.,  190.,  171.,  447.,  180.,    9.,    0.,\n",
       "          0.,    1.,   39.,    5.,   17.,  115.,   12.,  184.,   13.,\n",
       "          0.,    0.,    0.,    0.,    0.,    0.,   11.,    0.,    9.,\n",
       "         29.,    0.,    0.,    0.,    0.,    0.,    0.,    0.,    0.,\n",
       "          0.,    7.,    0.,    0.,    0.,    0.,    0.,    0.,    0.,\n",
       "          0.,    0.,    0.,    0.,    9.,   33.,   10.,    2.,    0.,\n",
       "         11.,   34.,    0.,    0.,    3.,   22.,   43.,   49.,    0.,\n",
       "          0.,  106.,  143.,    1.,    0.,   30.,  134.,   91.,   87.,\n",
       "         27.,    5.,    5.,  122.,    0.,    0.,    0.,   34.,  106.,\n",
       "         69.,  112.,  165.,  160.,   18.,    0.,    0.,    0.,    0.,\n",
       "        109.,  317.,  317.,  331.,  428.,  195.,    3.,   10.,    0.,\n",
       "          0.,   34.,  227.,  341.,  229.,  195.,  624.,  176.,    4.,\n",
       "          0.,    0.,    1.,   31.,    4.,   31.,  115.,   14.,  189.,\n",
       "         22.,    0.,    0.,    0.,    0.,    0.,    0.,    6.,    0.,\n",
       "          5.,   45.,    0.,    0.,    0.,    0.,    0.,    0.,    0.,\n",
       "          0.,    0.,   20.,    0.,    0.,    0.,    0.,    0.,    0.,\n",
       "          0.,    0.,    0.,    0.,    0.,    9.,   23.,   11.,    3.,\n",
       "          0.,   19.,   35.,    0.,    0.,    8.,   34.,   25.,   55.,\n",
       "          0.,    0.,   82.,  118.,    2.,    0.,   42.,  127.,   78.,\n",
       "         99.,   23.,   13.,    4.,  146.,    0.,    0.,    1.,   33.,\n",
       "        113.,   47.,  100.,  183.,  222.,   22.,    0.,    0.,    0.,\n",
       "          0.,  115.,  290.,  289.,  328.,  423.,  228.,    0.,   13.,\n",
       "          0.,    0.,   24.,  213.,  344.,  209.,  199.,  610.,  169.,\n",
       "          8.,    0.,    0.,    0.,   37.,    4.,   32.,  111.,    8.,\n",
       "        168.,   29.,    0.,    0.,    0.,    0.,    0.,    0.,    9.,\n",
       "          0.,    6.,   38.,    0.,    0.,    0.,    0.,    0.,    0.,\n",
       "          0.,    0.,    0.,   14.,    0.,    0.,    0.,    0.,    0.,\n",
       "          0.,    0.,    0.,    0.,    0.,    0.,    7.,   31.,    7.,\n",
       "          1.,    0.,   11.,   33.,    0.,    0.,    4.,   36.,   40.,\n",
       "         54.,    3.,    0.,  101.,  136.,    0.,    0.,   48.,  135.,\n",
       "         91.,   88.,   28.,   10.,    3.,  129.,    1.,    0.,    0.,\n",
       "         26.,  125.,   63.,  125.,  193.,  240.,   31.,    0.,    0.,\n",
       "          0.,    0.,  104.,  303.,  338.,  397.,  454.,  262.,    3.,\n",
       "         15.,    0.,    0.,   44.,  205.,  377.,  205.,  200.,  705.,\n",
       "        182.,    5.,    0.,    0.,    1.,   29.,    4.,   23.,  121.,\n",
       "         25.,  157.,   23.,    0.,    0.,    0.,    0.,    0.,    0.,\n",
       "          7.,    0.,    9.,   32.,    0.,    0.,    0.,    0.,    0.,\n",
       "          0.,    0.,    0.,    0.,   18.,    0.,    0.,    0.,    0.,\n",
       "          0.,    0.,    0.,    0.,    0.,    0.,    0.,   18.,   12.,\n",
       "         21.,    1.,    0.,   23.,   12.,    3.,    0.,   10.,   27.,\n",
       "         18.,   62.,    0.,    0.,  116.,   71.,   14.,    0.,   19.,\n",
       "        115.,   39.,  103.,    7.,   19.,   40.,   58.,   11.,    0.,\n",
       "          0.,   61.,   53.,   56.,   43.,  221.,  196.,    5.,    0.,\n",
       "          0.,    0.,   15.,   51.,  357.,  141.,  430.,  580.,  115.,\n",
       "          3.,   17.,    0.,    3.,   15.,  229.,  178.,  325.,  292.,\n",
       "        310.,  254.,    2.,    0.,    0.,    0.,   36.,    1.,   13.,\n",
       "        142.,    6.,  175.,   13.,    0.,    0.,    0.,    0.,    0.,\n",
       "          0.,    7.,    0.,   11.,   38.,    0.,    0.,    0.,    0.,\n",
       "          0.,    0.,    0.,    0.,    0.,   18.,    0.,    0.,    0.,\n",
       "          0.,    0.,    1.,    0.,    0.,    0.,    0.,    0.,   13.,\n",
       "          0.,   36.,    0.,    1.,   32.,    0.,    2.,    0.,    6.,\n",
       "         31.,    0.,   50.,    0.,    0.,  160.,    0.,   19.,    0.,\n",
       "         43.,  134.,    0.,  140.,    0.,   38.,   82.,    0.,   19.,\n",
       "          0.,    0.,  105.,    0.,   93.,    0.,  250.,  213.,    0.,\n",
       "          0.,    0.,    0.,   32.,    0.,  461.,    0.,  564.,  758.,\n",
       "          0.,   13.,   11.,    0.,   15.,    0.,  351.,    0.,  512.,\n",
       "        489.,    0.,  391.,    0.,    0.,    0.,    0.,   36.,    0.,\n",
       "         16.,  147.,    0.,  205.,    0.,    0.,    0.,    0.,    0.,\n",
       "          0.,    0.,    8.,    0.,   11.,   36.,    0.,    0.,    0.,\n",
       "          0.,    0.,    0.,    0.,    0.,    1.,   16.,    0.,    0.,\n",
       "          0.,    0.,    0.,    0.,    0.,    0.,    0.,    0.,    0.,\n",
       "          4.,    0.,   10.,    0.,    0.,   11.,    0.,    1.,    0.,\n",
       "          1.,   11.,    0.,   32.,    0.,    0.,   38.,    0.,    9.,\n",
       "          0.,    8.,   32.,    0.,   40.,    0.,    8.,   24.,    0.,\n",
       "         10.,    0.,    0.,   27.,    0.,   24.,    0.,   74.,   62.,\n",
       "          0.,    0.,    0.,    0.,   12.,    0.,  128.,    0.,  140.,\n",
       "        189.,    0.,    5.,    2.,    0.,    2.,    0.,   96.,    0.,\n",
       "        159.,  128.,    0.,   98.,    1.,    0.,    0.,    0.,    9.,\n",
       "          0.,    8.,   32.,    0.,   50.,    0.,    0.,    0.,    0.,\n",
       "          0.,    0.,    0.,    4.,    0.,    3.,    3.,    0.,    0.,\n",
       "          0.,    0.,    0.,    0.,    0.,    0.,    0.,    3.,    0.,\n",
       "          0.,    0.,    0.,    0.,    0.,    0.,    0.,    0.,    0.])"
      ]
     },
     "execution_count": 33,
     "metadata": {},
     "output_type": "execute_result"
    }
   ],
   "source": [
    "test_t"
   ]
  },
  {
   "cell_type": "code",
   "execution_count": 74,
   "metadata": {
    "collapsed": false
   },
   "outputs": [
    {
     "data": {
      "text/plain": [
       "<matplotlib.legend.Legend at 0x7f5bec2badd0>"
      ]
     },
     "execution_count": 74,
     "metadata": {},
     "output_type": "execute_result"
    },
    {
     "data": {
      "image/png": "[encoded data removed]",
      "text/plain": [
       "<matplotlib.figure.Figure at 0x7f5bece7d550>"
      ]
     },
     "metadata": {},
     "output_type": "display_data"
    }
   ],
   "source": [
    "yPred = preds2[-minValue:]\n",
    "yTrue = test_t[-minValue:]\n",
    "yPred = yPred / float(np.sum(yPred))\n",
    "yTrue = yTrue / float(np.sum(yTrue))\n",
    "plt.plot(yPred, label=\"Predictions\")\n",
    "plt.plot(yTrue, label=\"Actual Data\")\n",
    "plt.title('Predictive Distribution for {} in Final Time Period'.format(process))\n",
    "plt.xlabel('Region')\n",
    "plt.ylabel('Probability')\n",
    "plt.legend()"
   ]
  },
  {
   "cell_type": "code",
   "execution_count": 77,
   "metadata": {
    "collapsed": false
   },
   "outputs": [
    {
     "data": {
      "text/plain": [
       "<matplotlib.legend.Legend at 0x7f5bec043e90>"
      ]
     },
     "execution_count": 77,
     "metadata": {},
     "output_type": "execute_result"
    },
    {
     "data": {
      "image/png": "[encoded data removed]",
      "text/plain": [
       "<matplotlib.figure.Figure at 0x7f5bec399150>"
      ]
     },
     "metadata": {},
     "output_type": "display_data"
    }
   ],
   "source": [
    "yPred = preds2[:minValue]\n",
    "yTrue = test_t[:minValue]\n",
    "yPred = yPred / float(np.sum(yPred))\n",
    "yTrue = yTrue / float(np.sum(yTrue))\n",
    "plt.plot(yPred, label=\"Predictions\")\n",
    "plt.plot(yTrue, label=\"Actual Data\")\n",
    "plt.title('Predictive Distribution for {} in First Time Period'.format(process))\n",
    "plt.xlabel('Region')\n",
    "plt.ylabel('Probability')\n",
    "plt.legend()"
   ]
  },
  {
   "cell_type": "code",
   "execution_count": 78,
   "metadata": {
    "collapsed": false
   },
   "outputs": [
    {
     "data": {
      "text/plain": [
       "<matplotlib.legend.Legend at 0x7f5bebf97510>"
      ]
     },
     "execution_count": 78,
     "metadata": {},
     "output_type": "execute_result"
    },
    {
     "data": {
      "image/png": "[encoded data removed]",
      "text/plain": [
       "<matplotlib.figure.Figure at 0x7f5bec1a1490>"
      ]
     },
     "metadata": {},
     "output_type": "display_data"
    }
   ],
   "source": [
    "yPred = preds2[:minValue]\n",
    "yTrue = test_t[:minValue]\n",
    "plt.plot(yPred, label=\"Predictions\")\n",
    "plt.plot(yTrue, label=\"Actual Data\")\n",
    "plt.title('Predictive Crime Count for {} in First Time Period'.format(process))\n",
    "plt.xlabel('Region')\n",
    "plt.ylabel('Crime Count')\n",
    "plt.legend()"
   ]
  },
  {
   "cell_type": "code",
   "execution_count": 79,
   "metadata": {
    "collapsed": false
   },
   "outputs": [
    {
     "data": {
      "text/plain": [
       "<matplotlib.legend.Legend at 0x7f5bebee9cd0>"
      ]
     },
     "execution_count": 79,
     "metadata": {},
     "output_type": "execute_result"
    },
    {
     "data": {
      "image/png": "[encoded data removed]",
      "text/plain": [
       "<matplotlib.figure.Figure at 0x7f5bebf54b50>"
      ]
     },
     "metadata": {},
     "output_type": "display_data"
    }
   ],
   "source": [
    "yPred = preds2[-minValue:]\n",
    "yTrue = test_t[-minValue:]\n",
    "plt.plot(yPred, label=\"Predictions\")\n",
    "plt.plot(yTrue, label=\"Actual Data\")\n",
    "plt.title('Predictive Crime Count for {} in Final Time Period'.format(process))\n",
    "plt.xlabel('Region')\n",
    "plt.ylabel('Crime Count')\n",
    "plt.legend()"
   ]
  },
  {
   "cell_type": "code",
   "execution_count": 53,
   "metadata": {
    "collapsed": false
   },
   "outputs": [
    {
     "data": {
      "text/plain": [
       "[<matplotlib.lines.Line2D at 0x7f5bed4d5250>]"
      ]
     },
     "execution_count": 53,
     "metadata": {},
     "output_type": "execute_result"
    },
    {
     "data": {
      "image/png": "[encoded data removed]",
      "text/plain": [
       "<matplotlib.figure.Figure at 0x7f5bed544850>"
      ]
     },
     "metadata": {},
     "output_type": "display_data"
    }
   ],
   "source": [
    "plt.plot(preds2[len(preds2) - 100:])"
   ]
  },
  {
   "cell_type": "code",
   "execution_count": 67,
   "metadata": {
    "collapsed": false
   },
   "outputs": [
    {
     "data": {
      "text/plain": [
       "[<matplotlib.lines.Line2D at 0x7f5becd3a1d0>]"
      ]
     },
     "execution_count": 67,
     "metadata": {},
     "output_type": "execute_result"
    },
    {
     "data": {
      "image/png": "[encoded data removed]",
      "text/plain": [
       "<matplotlib.figure.Figure at 0x7f5becf86550>"
      ]
     },
     "metadata": {},
     "output_type": "display_data"
    }
   ],
   "source": [
    "plt.plot(preds2[:100])"
   ]
  },
  {
   "cell_type": "code",
   "execution_count": 85,
   "metadata": {
    "collapsed": false
   },
   "outputs": [],
   "source": [
    "selected = []\n",
    "for i in range(100):\n",
    "    selected.append(range(i,len(preds2),100))"
   ]
  },
  {
   "cell_type": "code",
   "execution_count": 91,
   "metadata": {
    "collapsed": false
   },
   "outputs": [
    {
     "data": {
      "text/plain": [
       "<matplotlib.legend.Legend at 0x7f5bebcd3650>"
      ]
     },
     "execution_count": 91,
     "metadata": {},
     "output_type": "execute_result"
    },
    {
     "data": {
      "image/png": "[encoded data removed]",
      "text/plain": [
       "<matplotlib.figure.Figure at 0x7f5becdf11d0>"
      ]
     },
     "metadata": {},
     "output_type": "display_data"
    }
   ],
   "source": [
    "for i in range(100):\n",
    "    data = preds2[selected[i]]\n",
    "    if data.sum() > 140:\n",
    "        plt.plot(test_t[selected[i]], label='Region {}'.format(i))\n",
    "        # plt.plot(test_t[selected[i]], label='Actual Region {}'.format(i))\n",
    "plt.title('Crime For Subsequent Month')\n",
    "plt.xlabel('Month (zero-indexed starting after training set)')\n",
    "plt.ylabel('Crime Count')\n",
    "plt.legend()"
   ]
  },
  {
   "cell_type": "code",
   "execution_count": 70,
   "metadata": {
    "collapsed": false
   },
   "outputs": [],
   "source": [
    "# Attach the predictions to the data\n",
    "trueValues = np.copy(X_test)\n",
    "predictedValues = np.copy(X_test)\n",
    "predictedValues[:, columns['count']] = preds2"
   ]
  },
  {
   "cell_type": "code",
   "execution_count": 71,
   "metadata": {
    "collapsed": false
   },
   "outputs": [
    {
     "name": "stderr",
     "output_type": "stream",
     "text": [
      " /usr/local/lib/python2.7/dist-packages/matplotlib/collections.py:590: FutureWarning:elementwise comparison failed; returning scalar instead, but in the future will perform elementwise comparison\n"
     ]
    },
    {
     "data": {
      "text/plain": [
       "<matplotlib.figure.Figure at 0x7f5bed308090>"
      ]
     },
     "metadata": {},
     "output_type": "display_data"
    }
   ],
   "source": [
    "# Now we want to plot the heatmaps for the predictions/actual data\n",
    "# by time period\n",
    "months = np.unique(X_test[:, columns['t']])\n",
    "for month in months:\n",
    "    # Create the heatmaps \n",
    "    selected = (X_test[:, columns['t']] == month)\n",
    "    if selected.sum() > 0:\n",
    "        plt.clf()\n",
    "        m = createHeatMap(trueValues[selected, :])\n",
    "        if m.sum() > 0:\n",
    "            sns.heatmap(m)\n",
    "            plt.title('True Density Distribution in Month {}'.format(month))\n",
    "            plt.savefig('../figures/{}_results/{}_heatmap_true_n={}_t={}.png'.format(\n",
    "                city, process, n, month))\n",
    "            plt.close()\n",
    "\n",
    "        plt.clf()\n",
    "        m = createHeatMap(predictedValues[selected, :])\n",
    "        if m.sum() > 0:\n",
    "            sns.heatmap(m)\n",
    "            plt.title('Predicted Density Distribution in Month {}'.format(month))\n",
    "            plt.savefig('../figures/{}_results/{}_heatmap_pred_n={}_t={}.png'.format(\n",
    "                city, process, n, month))\n",
    "            plt.close()"
   ]
  },
  {
   "cell_type": "code",
   "execution_count": null,
   "metadata": {
    "collapsed": true
   },
   "outputs": [],
   "source": []
  }
 ],
 "metadata": {
  "kernelspec": {
   "display_name": "Python 2",
   "language": "python",
   "name": "python2"
  },
  "language_info": {
   "codemirror_mode": {
    "name": "ipython",
    "version": 2
   },
   "file_extension": ".py",
   "mimetype": "text/x-python",
   "name": "python",
   "nbconvert_exporter": "python",
   "pygments_lexer": "ipython2",
   "version": "2.7.10"
  }
 },
 "nbformat": 4,
 "nbformat_minor": 0
}
