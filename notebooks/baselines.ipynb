{
 "cells": [
  {
   "cell_type": "code",
   "execution_count": 2,
   "metadata": {
    "collapsed": true
   },
   "outputs": [],
   "source": [
    "'''\n",
    "Notebook to Calculate Baseline using a simple average predictor.\n",
    "'''\n",
    "import numpy as np\n",
    "import pandas as pd\n",
    "import pickle"
   ]
  },
  {
   "cell_type": "code",
   "execution_count": null,
   "metadata": {
    "collapsed": true
   },
   "outputs": [],
   "source": [
    "'''\n",
    "Utility functions.\n",
    "'''\n",
    "# Author: Alex Wang -- Sets NaN to average.\n",
    "def normalize_features(X_train):\n",
    "    mean_X_train = np.nanmean(X_train, 0)\n",
    "    for i in xrange(np.shape(X_train)[1]):\n",
    "        col = X_train[:,i]\n",
    "        col[ np.isnan(col) ] = mean_X_train[i]\n",
    "    std_X_train = np.std(X_train, 0)\n",
    "    std_X_train[ std_X_train == 0 ] = 1\n",
    "    X_train_normalized = (X_train - mean_X_train) / std_X_train\n",
    "    return X_train_normalized\n",
    "\n",
    "def rmse(predict, true):\n",
    "    # Returns the root mean squared error.\n",
    "    return np.sqrt(1.0/np.shape(predict)[0] * np.sum(np.square(predict - true)))\n",
    "\n",
    "def randomSplit(X, split_size):\n",
    "    # Randomly splits the data.\n",
    "    np.random.shuffle(X)\n",
    "    break_pt = split_size * np.shape(X)[0]\n",
    "    return X[:break_pt,:], X[break_pt:,:]\n",
    "\n",
    "def buckets(series, n):\n",
    "    # Takes a series and returns an array mapping each element to\n",
    "    # one of n buckets.\n",
    "    mi, ma = series.min(), series.max()\n",
    "    buckets = np.linspace(mi, ma, n + 1)\n",
    "    \n",
    "    res = np.zeros(len(series))\n",
    "    array = series.values\n",
    "    if np.isnan(array).any():\n",
    "        print \"Error! NaN values found in series!\"\n",
    "    for i in xrange(n):\n",
    "        res[(buckets[i] <= array) & (array < buckets[i+1])] = i + 1\n",
    "    return res\n",
    "\n",
    "def createSimplePartitions(data, n):\n",
    "    # Returns a partitioned version of data into nxn regions!\n",
    "    data['xRegion'] = buckets(data.Latitude, n)\n",
    "    data['yRegion'] = buckets(data.Longitude, n) + 1\n",
    "    data['Region'] = n * data.yRegion + data.xRegion\n",
    "\n",
    "    return data\n",
    "\n",
    "def extractDataMatrix(data, n):\n",
    "    # Creates a NxD data matrix from the given data set.\n",
    "    # data must contains Latitude/Longitude columns. \n",
    "    partData = createSimplePartitions(data, n)\n",
    "    xs = partData.xRegion.unique()\n",
    "    ys = partData.yRegion.unique()\n",
    "    months = partData.Month.unique()\n",
    "    for x in xs:\n",
    "        for y in ys:\n",
    "            "
   ]
  }
 ],
 "metadata": {
  "kernelspec": {
   "display_name": "Python 2",
   "language": "python",
   "name": "python2"
  },
  "language_info": {
   "codemirror_mode": {
    "name": "ipython",
    "version": 2
   },
   "file_extension": ".py",
   "mimetype": "text/x-python",
   "name": "python",
   "nbconvert_exporter": "python",
   "pygments_lexer": "ipython2",
   "version": "2.7.10"
  }
 },
 "nbformat": 4,
 "nbformat_minor": 0
}
