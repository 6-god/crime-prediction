{
 "cells": [
  {
   "cell_type": "code",
   "execution_count": 255,
   "metadata": {
    "collapsed": false
   },
   "outputs": [],
   "source": [
    "import numpy as np\n",
    "import pandas as pd\n",
    "import csv\n",
    "import sklearn.linear_model as lm\n",
    "import matplotlib.pyplot as plt\n",
    "%matplotlib inline"
   ]
  },
  {
   "cell_type": "code",
   "execution_count": 175,
   "metadata": {
    "collapsed": false
   },
   "outputs": [
    {
     "name": "stdout",
     "output_type": "stream",
     "text": [
      "('Warnings raised:', [<warnings.WarningMessage object at 0x7f4fb4933810>])\n",
      "('Warning message:', 'Columns (10) have mixed types. Specify dtype option on import or set low_memory=False.')\n",
      "(\"Applying <type 'str'> dtype to columns:\", [10])\n"
     ]
    }
   ],
   "source": [
    "import re\n",
    "import warnings\n",
    "\n",
    "bos_file = 'crime-prediction/data/boston.csv'\n",
    "target_type = str  # The desired output type\n",
    "\n",
    "with warnings.catch_warnings(record=True) as ws:\n",
    "    warnings.simplefilter(\"always\")\n",
    "\n",
    "    bos_data = pd.read_csv(bos_file, sep=\",\", header=0)\n",
    "    print(\"Warnings raised:\", ws)\n",
    "    # We have an error on specific columns, try and load them as string\n",
    "    for w in ws:\n",
    "        s = str(w.message)\n",
    "        print(\"Warning message:\", s)\n",
    "        match = re.search(r\"Columns \\(([0-9,]+)\\) have mixed types\\.\", s)\n",
    "        if match:\n",
    "            columns = match.group(1).split(',') # Get columns as a list\n",
    "            columns = [int(c) for c in columns]\n",
    "            print(\"Applying %s dtype to columns:\" % target_type, columns)\n",
    "            bos_data.iloc[:,columns] = bos_data.iloc[:,columns].astype(target_type)"
   ]
  },
  {
   "cell_type": "code",
   "execution_count": 246,
   "metadata": {
    "collapsed": false
   },
   "outputs": [],
   "source": [
    "# temporal features\n",
    "# day of week\n",
    "day = np.array(bos_data.DAY_WEEK)\n",
    "day[ day == \"Sunday\"] = 0\n",
    "day[ day == \"Monday\"] = 1\n",
    "day[ day == \"Tuesday\"] = 2\n",
    "day[ day == \"Wednesday\"] = 3\n",
    "day[ day == \"Thursday\"] = 4\n",
    "day[ day == \"Friday\"] = 5\n",
    "day[ day == \"Saturday\"] = 6\n",
    "\n",
    "date_time = np.array([x.split() for x in bos_data.FROMDATE])\n",
    "date = date_time[:,0]\n",
    "time = date_time[:,1]\n",
    "tod = date_time[:,2]\n",
    "\n",
    "# month, day, year\n",
    "date = np.array([x.split('/') for x in date])\n",
    "month = [int(x) for x in date[:,0]]\n",
    "dom = [int(x) for x in date[:,1]]\n",
    "year = [int(x) for x in date[:,2]]\n",
    "\n",
    "# time of day\n",
    "time_c = [x.split(':') for x in time]\n",
    "time = [int(x[1]) if (y == 'AM' and int(x[0]) == 12) else 60*int(x[0])+int(x[1]) \n",
    "        if (y =='AM' and int(x[0]) != 12) or (int(x[0]) == 12 and y == 'PM') else 12*60+60*int(x[0])+int(x[1]) \n",
    "        for x,y in zip(time_c, tod)]\n",
    "\n",
    "data_unnorm = np.transpose(np.vstack((year, month, dom, day, time, bos_data.X, bos_data.Y))).astype(float)\n",
    "\n",
    "# remove NaNs\n",
    "good_data = data_unnorm[~(np.isnan(data_unnorm[:,5]))]"
   ]
  },
  {
   "cell_type": "code",
   "execution_count": 247,
   "metadata": {
    "collapsed": false
   },
   "outputs": [],
   "source": [
    "# DATA: year, month, day of month, day of week, time, X coord, Y coord\n",
    "def split(X, split_size):\n",
    "    np.random.shuffle(X)\n",
    "    break_pt = split_size * np.shape(X)[0]\n",
    "    return X[:break_pt,:], X[break_pt:,:]\n",
    "\n",
    "# implementation notes: set NaN to mean\n",
    "def normalize_features(X_train):\n",
    "    mean_X_train = np.nanmean(X_train, 0)\n",
    "    for i in xrange(np.shape(X_train)[1]):\n",
    "        col = X_train[:,i]\n",
    "        col[ np.isnan(col) ] = mean_X_train[i]\n",
    "    std_X_train = np.std(X_train, 0)\n",
    "    std_X_train[ std_X_train == 0 ] = 1\n",
    "    X_train_normalized = (X_train - mean_X_train) / std_X_train\n",
    "    return X_train_normalized\n",
    "\n",
    "# Note: bucket edits in place\n",
    "def bucket(X, cols, num_buckets):\n",
    "    Y = np.copy(X)\n",
    "    for col in cols:\n",
    "        buckets = np.linspace(np.min(X[:,col]), np.max(X[:,col]), num=num_buckets+1)\n",
    "        for i in xrange(num_buckets):\n",
    "            X_col = Y[:,col]\n",
    "            X_col[ (buckets[i] <= X_col) & (X_col <= buckets[i+1])] = i\n",
    "            Y[:,col] = X_col\n",
    "    return Y\n",
    "\n",
    "def rmse(predict, true):\n",
    "    return np.sqrt(1.0/np.shape(predict)[0] * np.sum(np.square(predict - true)))\n",
    "\n",
    "n_buckets = 5\n",
    "data_b = bucket(good_data, [5, 6], n_buckets)"
   ]
  },
  {
   "cell_type": "code",
   "execution_count": 248,
   "metadata": {
    "collapsed": false
   },
   "outputs": [],
   "source": [
    "years = [2012, 2013, 2014, 2015]\n",
    "n_mos = 12\n",
    "\n",
    "buckets = np.zeros((len(years), n_mos, n_buckets, n_buckets))\n",
    "\n",
    "# divide the data up by year and month\n",
    "for h in xrange(len(years)):\n",
    "    for i in xrange(n_mos):\n",
    "        for j in xrange(n_buckets):\n",
    "            for k in xrange(n_buckets):\n",
    "                count = data_b[(data_b[:,0] == years[h]) & \n",
    "                                                  (data_b[:,1] == i+1) & \n",
    "                                                  (data_b[:,5] == j) & \n",
    "                                                  (data_b[:,6] == k)]\n",
    "                buckets[h][i][j][k] = np.size(count,0)"
   ]
  },
  {
   "cell_type": "code",
   "execution_count": 250,
   "metadata": {
    "collapsed": false
   },
   "outputs": [
    {
     "name": "stdout",
     "output_type": "stream",
     "text": [
      "Average error: 38.631766489\n",
      "[[   5.97571921   13.34448447    1.08614338   32.90435182    6.41121614]\n",
      " [  33.07257048   39.49869463   64.47793845   68.06992671    3.79555746]\n",
      " [   2.32066044   86.72856072  164.64222507  284.93231177   78.42032413]\n",
      " [   0.            9.69862218   19.09162888    9.5967189    35.74033367]\n",
      " [   0.            0.            2.47574648    0.            3.51042722]]\n"
     ]
    }
   ],
   "source": [
    "time_feats = np.linspace(0, 36, 37) # months since 07/2012\n",
    "\n",
    "ridges = np.zeros((n_buckets, n_buckets))\n",
    "\n",
    "for i in xrange(n_buckets):\n",
    "    for j in xrange(n_buckets):\n",
    "        geon_data = np.transpose(np.vstack((time_feats, np.reshape(buckets[:,:,i,j], (1, -1))[0][6:-5]))) # starts in July 2012 up to most recent\n",
    "        train, test = split(geon_data, .8)\n",
    "        model = lm.Ridge()\n",
    "        model.fit(np.reshape(train[:,0], (np.shape(train)[0],1)), np.reshape(train[:,1], (np.shape(train)[0],1)))\n",
    "        predicts = model.predict(np.reshape(test[:,0], (np.shape(test)[0],1)))\n",
    "        ridges[i][j] = rmse(predicts, np.reshape(test[:,1], (np.shape(test)[0],1)))\n",
    "        #model.score(np.reshape(test[:,0], (np.shape(test)[0],1)), np.reshape(test[:,1], (np.shape(test)[0],1)))\n",
    "\n",
    "print \"Average error:\", np.sum(ridges)/(n_buckets**2)\n",
    "print ridges"
   ]
  },
  {
   "cell_type": "code",
   "execution_count": 251,
   "metadata": {
    "collapsed": false
   },
   "outputs": [
    {
     "name": "stdout",
     "output_type": "stream",
     "text": [
      "Average error: 676.610276256\n",
      "Average error: 36.8720866748\n",
      "Average error: 15.6527848706\n",
      "Average error: 3.55986509579\n",
      "Average error: 1.29333739045\n"
     ]
    }
   ],
   "source": [
    "bucket_sizes = [1, 5, 10, 25, 50]\n",
    "errors = []\n",
    "\n",
    "for size in bucket_sizes:\n",
    "    data_b = bucket(good_data, [5, 6], size)\n",
    "    buckets = np.zeros((len(years), n_mos, size, size))\n",
    "\n",
    "    # divide the data up by year and month\n",
    "    for h in xrange(len(years)):\n",
    "        data_unnorm[data_unnorm[:,0] == 2012]\n",
    "        for i in xrange(n_mos):\n",
    "            for j in xrange(size):\n",
    "                for k in xrange(size):\n",
    "                    count = data_b[(data_b[:,0] == years[h]) & \n",
    "                                                      (data_b[:,1] == i+1) & \n",
    "                                                      (data_b[:,5] == j) & \n",
    "                                                      (data_b[:,6] == k)]\n",
    "                    buckets[h][i][j][k] = np.size(count,0)\n",
    "    \n",
    "    ridges = np.zeros((size, size))\n",
    "\n",
    "    for i in xrange(size):\n",
    "        for j in xrange(size):\n",
    "            geon_data = np.transpose(np.vstack((time_feats, np.reshape(buckets[:,:,i,j], (1, -1))[0][6:-5]))) # starts in July 2012 up to most recent\n",
    "            train, test = split(geon_data, .8)\n",
    "            model = lm.Ridge()\n",
    "            model.fit(np.reshape(train[:,0], (np.shape(train)[0],1)), np.reshape(train[:,1], (np.shape(train)[0],1)))\n",
    "            predicts = model.predict(np.reshape(test[:,0], (np.shape(test)[0],1)))\n",
    "            ridges[i][j] = rmse(predicts, np.reshape(test[:,1], (np.shape(test)[0],1)))\n",
    "            #model.score(np.reshape(test[:,0], (np.shape(test)[0],1)), np.reshape(test[:,1], (np.shape(test)[0],1)))\n",
    "\n",
    "    print \"Average error:\", np.sum(ridges)/(size**2)\n",
    "    errors.append(np.sum(ridges)/(size**2))"
   ]
  },
  {
   "cell_type": "code",
   "execution_count": 260,
   "metadata": {
    "collapsed": false
   },
   "outputs": [
    {
     "data": {
      "image/png": "[encoded data removed]",
      "text/plain": [
       "<matplotlib.figure.Figure at 0x7f4fbcd90b90>"
      ]
     },
     "metadata": {},
     "output_type": "display_data"
    }
   ],
   "source": [
    "plt.scatter(bucket_sizes + bucket_sizes2, errors+ errors2)\n",
    "plt.xlabel('Bucket size')\n",
    "plt.ylabel('RMSE')\n",
    "plt.show()"
   ]
  },
  {
   "cell_type": "code",
   "execution_count": 258,
   "metadata": {
    "collapsed": false
   },
   "outputs": [
    {
     "name": "stdout",
     "output_type": "stream",
     "text": [
      "Average error: 0.72462817042\n",
      "Average error: 0.502453904579\n"
     ]
    }
   ],
   "source": [
    "bucket_sizes2 = [75, 100]\n",
    "errors2 = []\n",
    "\n",
    "for size in bucket_sizes2:\n",
    "    data_b = bucket(good_data, [5, 6], size)\n",
    "    buckets = np.zeros((len(years), n_mos, size, size))\n",
    "\n",
    "    # divide the data up by year and month\n",
    "    for h in xrange(len(years)):\n",
    "        data_unnorm[data_unnorm[:,0] == 2012]\n",
    "        for i in xrange(n_mos):\n",
    "            for j in xrange(size):\n",
    "                for k in xrange(size):\n",
    "                    count = data_b[(data_b[:,0] == years[h]) & \n",
    "                                                      (data_b[:,1] == i+1) & \n",
    "                                                      (data_b[:,5] == j) & \n",
    "                                                      (data_b[:,6] == k)]\n",
    "                    buckets[h][i][j][k] = np.size(count,0)\n",
    "    \n",
    "    ridges = np.zeros((size, size))\n",
    "\n",
    "    for i in xrange(size):\n",
    "        for j in xrange(size):\n",
    "            geon_data = np.transpose(np.vstack((time_feats, np.reshape(buckets[:,:,i,j], (1, -1))[0][6:-5]))) # starts in July 2012 up to most recent\n",
    "            train, test = split(geon_data, .8)\n",
    "            model = lm.Ridge()\n",
    "            model.fit(np.reshape(train[:,0], (np.shape(train)[0],1)), np.reshape(train[:,1], (np.shape(train)[0],1)))\n",
    "            predicts = model.predict(np.reshape(test[:,0], (np.shape(test)[0],1)))\n",
    "            ridges[i][j] = rmse(predicts, np.reshape(test[:,1], (np.shape(test)[0],1)))\n",
    "            #model.score(np.reshape(test[:,0], (np.shape(test)[0],1)), np.reshape(test[:,1], (np.shape(test)[0],1)))\n",
    "\n",
    "    print \"Average error:\", np.sum(ridges)/(size**2)\n",
    "    errors2.append(np.sum(ridges)/(size**2))"
   ]
  },
  {
   "cell_type": "code",
   "execution_count": 110,
   "metadata": {
    "collapsed": false
   },
   "outputs": [
    {
     "name": "stdout",
     "output_type": "stream",
     "text": [
      "[-3.17778786 -2.9469638  -2.71613973 -2.48531566 -2.25449159 -2.02366753\n",
      " -1.79284346 -1.56201939 -1.33119533 -1.10037126 -0.86954719 -0.63872312\n",
      " -0.40789906 -0.17707499  0.05374908  0.28457315  0.51539721  0.74622128\n",
      "  0.97704535  1.20786941  1.43869348  1.66951755  1.90034162  2.13116568\n",
      "  2.36198975  2.59281382  2.82363789  3.05446195  3.28528602  3.51611009\n",
      "  3.74693416  3.97775822]\n",
      "[-2.9663754  -2.79429515 -2.6222149  -2.45013466 -2.27805441 -2.10597416\n",
      " -1.93389391 -1.76181366 -1.58973341 -1.41765316 -1.24557291 -1.07349266\n",
      " -0.90141241 -0.72933216 -0.55725191 -0.38517166 -0.21309141 -0.04101116\n",
      "  0.13106909  0.30314934  0.47522959  0.64730984  0.81939009  0.99147034\n",
      "  1.16355059  1.33563083  1.50771108  1.67979133  1.85187158  2.02395183\n",
      "  2.19603208  2.36811233]\n"
     ]
    }
   ],
   "source": [
    "data = normalize_features(data_unnorm)\n",
    "data_b = bucket(data, [5, 6], 30)\n",
    "train, test = split(data_b, .8)"
   ]
  },
  {
   "cell_type": "code",
   "execution_count": 148,
   "metadata": {
    "collapsed": false
   },
   "outputs": [],
   "source": [
    "num_feats = 2 # X and Y\n",
    "num_buckets = 30\n",
    "train_counts = np.zeros((num_buckets**2,num_feats+1))\n",
    "test_counts = np.zeros((num_buckets**2,num_feats+1))\n",
    "\n",
    "for i in xrange(num_buckets):\n",
    "    for j in xrange(num_buckets):\n",
    "        train_counts[i*num_buckets+j][0] = i\n",
    "        train_counts[i*num_buckets+j][1] = j\n",
    "        train_counts[i*num_buckets+j][2] = ((train[:,5] == i) & (train[:,6] == j)).sum()\n",
    "        test_counts[i*num_buckets+j][0] = i\n",
    "        test_counts[i*num_buckets+j][1] = j\n",
    "        test_counts[i*num_buckets+j][2] = ((test[:,5] == i) & (test[:,6] == j)).sum()"
   ]
  },
  {
   "cell_type": "code",
   "execution_count": 138,
   "metadata": {
    "collapsed": false
   },
   "outputs": [],
   "source": [
    "# X: [-3.17778786, 3.97775822]\n",
    "# Y: [-2.9663754, 2.36811233]\n"
   ]
  },
  {
   "cell_type": "code",
   "execution_count": 155,
   "metadata": {
    "collapsed": true
   },
   "outputs": [],
   "source": [
    "from sklearn import gaussian_process as gp\n",
    "\n",
    "model = gp.GaussianProcess(theta0=1.5)"
   ]
  },
  {
   "cell_type": "code",
   "execution_count": 156,
   "metadata": {
    "collapsed": false
   },
   "outputs": [
    {
     "data": {
      "text/plain": [
       "GaussianProcess(beta0=None,\n",
       "        corr=<function squared_exponential at 0x7fc53de22488>,\n",
       "        normalize=True, nugget=array(2.220446049250313e-15),\n",
       "        optimizer='fmin_cobyla', random_start=1,\n",
       "        random_state=<mtrand.RandomState object at 0x7fc5547af410>,\n",
       "        regr=<function constant at 0x7fc53de220c8>, storage_mode='full',\n",
       "        theta0=array([[ 1.5]]), thetaL=None, thetaU=None, verbose=False)"
      ]
     },
     "execution_count": 156,
     "metadata": {},
     "output_type": "execute_result"
    }
   ],
   "source": [
    "model.fit(test_counts[:,:2], test_counts[:,2])"
   ]
  },
  {
   "cell_type": "code",
   "execution_count": 157,
   "metadata": {
    "collapsed": false
   },
   "outputs": [
    {
     "data": {
      "text/plain": [
       "-0.92575135937387243"
      ]
     },
     "execution_count": 157,
     "metadata": {},
     "output_type": "execute_result"
    }
   ],
   "source": [
    "model.score(test_counts[:,:2], test_counts[:,2])"
   ]
  },
  {
   "cell_type": "code",
   "execution_count": 158,
   "metadata": {
    "collapsed": false
   },
   "outputs": [
    {
     "data": {
      "text/plain": [
       "array([ -1.88027226e+01,  -1.32406875e+01,   7.12801819e-01,\n",
       "         1.63205407e+01,  -4.96601510e+00,  -2.45675142e+01,\n",
       "        -1.48578187e+01,  -9.98268118e+01,  -1.98186216e+01,\n",
       "        -5.04437345e+01,  -8.82967350e+01,  -3.39380672e+01,\n",
       "        -1.71782980e+01,   1.08893403e+01,   4.56372442e+01,\n",
       "        -1.40553727e+02,   9.75296568e+00,   7.76943674e-01,\n",
       "         1.14695460e+01,   6.97178137e+00,  -4.47330187e+01,\n",
       "         3.00394641e+01,  -4.45049588e+01,  -1.16730080e+02,\n",
       "         7.85920928e+01,   2.44012392e+01,  -7.91831137e+01,\n",
       "        -2.37185177e+01,   1.81792000e+01,  -3.34024919e+01,\n",
       "         1.17202063e+01,  -2.33250714e+01,   2.24945767e+01,\n",
       "        -4.98548131e+01,  -7.55237565e+01,  -4.74748154e+01,\n",
       "         2.70219948e+00,   5.38403308e+01,  -4.83816092e+01,\n",
       "        -2.62325615e+01,  -2.46931422e+02,   8.29194407e+01,\n",
       "        -6.12386648e+01,  -1.51875832e+02,   1.21005099e+02,\n",
       "        -1.35441612e+02,   8.90065587e+01,  -7.67812389e+01,\n",
       "        -1.94873470e+02,   1.15289129e+02,   8.29854441e+01,\n",
       "         3.59953499e+01,  -3.72354281e+01,  -7.39984014e+01,\n",
       "         1.08796251e+02,   7.05646327e+01,  -7.97328494e+01,\n",
       "        -6.52999679e+01,   1.05392822e+01,   1.91040651e+01,\n",
       "         4.73962724e-01,   1.05935966e+01,   2.84374073e+01,\n",
       "         1.26197717e+01,   5.46789106e+01,  -1.95328123e+01,\n",
       "        -3.11946268e+01,  -3.28047438e+01,  -8.95183226e+01,\n",
       "         5.41686523e+01,  -3.19303472e+01,   1.74095710e+01,\n",
       "        -2.00742683e+02,  -1.21050938e+02,   1.68073808e+02,\n",
       "        -6.22690626e+01,  -3.33057729e+01,  -2.61330102e+00,\n",
       "        -5.36407671e+00,   1.24974877e+01,   5.91846482e+01,\n",
       "        -2.05396836e+02,  -3.21269877e+01,  -1.67034704e+02,\n",
       "         3.83732870e+01,   9.96625932e+01,   6.78565492e+00,\n",
       "        -1.49955054e+02,  -2.17141844e+01,   1.00576376e+01,\n",
       "         8.39671902e+00,   3.79232602e+01,   1.02847056e+01,\n",
       "        -1.37806519e+01,  -3.35713925e+01,  -3.48833936e+01,\n",
       "         3.48509504e+01,  -4.89500680e+01,  -1.28493395e+01,\n",
       "         1.42207153e+02,  -2.93383501e+01,   8.78340840e+01,\n",
       "        -1.86970214e+02,  -1.15305248e+02,   7.11350565e+01,\n",
       "         1.74639834e+01,   8.70026316e+01,  -6.03944784e+01,\n",
       "        -1.67357098e+02,   4.22603312e+02,   1.36471401e+02,\n",
       "         1.60632340e+02,  -2.94049297e+01,   1.26834656e+02,\n",
       "         9.40603788e+01,   7.46339277e+01,   2.36275528e+01,\n",
       "        -3.41716929e+00,  -7.99828821e+01,   4.61168955e+01,\n",
       "        -1.80912982e+01,  -2.15723625e+01,  -3.92368236e+01,\n",
       "        -4.42160722e+01,   4.77146564e+01,   1.35831606e+00,\n",
       "         1.64061608e+02,   6.88502629e+01,   5.10789324e+01,\n",
       "         7.19934127e+01,   1.67057845e+02,   2.86502678e+02,\n",
       "        -1.01838622e+02,  -2.24188255e+01,   5.57123031e+01,\n",
       "        -2.50260884e+01,   8.48562119e+01,  -4.02815236e+01,\n",
       "         2.44972684e+02,   1.29588076e+02,   1.31678119e+02,\n",
       "         2.59084248e+02,   7.61638242e+01,   1.72218411e+02,\n",
       "         1.12345378e+02,  -1.41955102e+02,  -2.78104940e+01,\n",
       "         8.59045583e+01,   1.46210844e+01,   1.04314857e+02,\n",
       "        -9.64377295e-01,   2.46317204e+00,  -1.93504928e+01,\n",
       "         2.14851385e+01,  -3.46653282e+01,  -4.85900013e+01,\n",
       "         2.85137081e+00,  -1.02555286e+01,  -1.50773546e+02,\n",
       "         6.58786634e+01,  -7.42633031e+01,   6.92247954e+00,\n",
       "        -1.81851817e+02,  -2.74479776e+00,  -1.95339452e+02,\n",
       "         6.86939027e+01,   1.17465589e+02,   3.18719076e+02,\n",
       "        -3.57210423e+02,  -1.15341070e+02,  -2.92596252e+02,\n",
       "         9.63293777e+01,   9.00030244e+01,   2.58274108e+02,\n",
       "         1.74845392e+01,  -5.37238152e+01,   1.36311641e+02,\n",
       "        -1.79875367e+01,  -5.10267718e+01,   4.93913910e+01,\n",
       "         2.99316878e+01,   3.31795060e+01,  -8.41553340e+01,\n",
       "         4.76582035e+01,   6.56848946e+01,  -3.45186413e+01,\n",
       "         1.93853472e+01,   1.06878206e+01,   1.85709674e+02,\n",
       "         1.62174479e+02,   9.42266391e+01,   1.82169238e+02,\n",
       "        -1.26338429e+02,   5.14040468e+01,   4.54897701e+02,\n",
       "         6.92561646e+01,  -1.10147704e+02,  -2.03055136e+02,\n",
       "        -4.25106269e+02,   3.49859922e+02,  -2.90567272e+02,\n",
       "         5.86858757e+02,  -2.34529642e+01,   4.93777205e+02,\n",
       "         3.07239260e+02,   3.87319935e+01,  -1.45801086e+01,\n",
       "        -3.15289799e+01,   8.73114222e+01,   1.53103320e+02,\n",
       "         2.91180706e+01,   6.24927671e+00,  -2.28136180e+01,\n",
       "         1.03890289e+02,   2.17153416e+02,   7.73020202e+00,\n",
       "         4.07924113e+01,   6.93819178e+01,   1.98743268e+02,\n",
       "         1.45740712e+02,   7.07845497e+01,   3.96775608e+01,\n",
       "        -2.73692160e+02,   2.11163815e+02,  -1.98303047e+01,\n",
       "        -6.01438789e+01,   5.91378686e+01,  -3.99895170e+02,\n",
       "        -7.92279013e+02,  -5.70871087e+01,  -2.23695590e+02,\n",
       "         3.86782996e+02,   1.39373247e+02,   4.45698440e+01,\n",
       "        -7.52390996e+01,  -6.24219465e+01,  -5.57618635e+01,\n",
       "        -4.89760273e+01,   1.45970523e+01,   5.83398194e+01,\n",
       "         1.65790255e+01,   5.57280222e+01,   2.23502208e+01,\n",
       "         5.31404083e+01,   2.07495207e+02,   2.87198553e+02,\n",
       "         1.00338970e+02,   2.67537524e+02,   2.35545426e+02,\n",
       "         3.26682640e+02,   1.91265789e+02,   1.59832326e+02,\n",
       "        -2.15424829e+01,  -1.55904941e+02,  -1.58748898e+02,\n",
       "        -5.78745242e+02,   1.13429395e+02,  -1.45525465e+02,\n",
       "        -6.75362393e+02,  -3.74618777e+02,   7.00929001e+02,\n",
       "         1.03562605e+02,  -2.76608667e+02,   2.04377979e+02,\n",
       "        -9.75264361e+01,   1.06793564e+01,  -1.47595557e+02,\n",
       "        -2.00044245e+01,  -1.27687788e+01,  -9.38304666e-01,\n",
       "         5.99625194e+01,   3.67096644e+01,   6.64025343e+01,\n",
       "         1.24949113e+02,   1.47020009e+02,   1.22967291e+02,\n",
       "        -4.92565537e+01,  -8.79787971e+00,   4.46907605e+01,\n",
       "        -1.34720363e+02,  -1.41646463e+02,   1.15567199e+02,\n",
       "         1.37196750e+02,  -4.87438676e+01,  -1.08437875e+01,\n",
       "         7.88965915e+02,   2.32208129e+02,   3.31669238e+02,\n",
       "         4.45775757e+02,  -4.60769393e+02,  -1.03224023e+02,\n",
       "        -8.02624632e+02,  -1.28171455e+01,   6.55203203e+02,\n",
       "         4.73867088e+02,  -3.46121167e+02,   1.48688657e+02,\n",
       "         2.84076488e+02,  -7.42717673e+01,   2.54408475e+01,\n",
       "         4.52917157e+01,  -1.02924081e+01,   7.17761344e+00,\n",
       "         7.74204493e+01,   1.06068065e+01,   3.77066212e+01,\n",
       "         1.65172000e+02,  -9.26703588e+00,  -1.04655675e+02,\n",
       "        -2.20290580e+02,  -1.26053066e+02,   2.31821196e+02,\n",
       "        -5.64718923e+02,  -3.14682867e+02,  -6.65427821e+01,\n",
       "         2.90093295e+02,  -9.37054734e+01,  -1.78559864e+02,\n",
       "         5.38581619e+02,   1.69641075e+02,   5.80641228e+02,\n",
       "        -5.01958403e+02,   6.68668469e+02,  -2.32836811e+01,\n",
       "        -4.67869612e+02,   1.28626185e+02,  -3.73341898e+02,\n",
       "        -3.66135204e+01,  -2.51603058e+01,  -3.92059710e+01,\n",
       "         7.12923991e+01,   5.38755808e+01,   1.00172105e+02,\n",
       "         8.48543981e+01,   4.85600898e+01,   1.35784444e+02,\n",
       "         3.16249961e+02,   2.28532267e+02,   2.98528433e+02,\n",
       "         1.68170730e+02,  -4.19270837e+02,   1.61089858e+02,\n",
       "         2.99844005e+02,  -6.41563802e+02,   1.16425216e+03,\n",
       "         4.18371302e+01,   5.39123325e+02,   6.62013222e+02,\n",
       "         4.51647534e+01,   6.60542877e+02,  -3.61192205e+02,\n",
       "         5.68143295e+02,  -7.67394389e+02,   1.87401297e+02,\n",
       "         6.82259557e+01,  -1.89161826e+02,  -5.37353023e+01,\n",
       "        -1.71827231e+02,   2.07870048e+02,  -3.11771128e+01,\n",
       "         2.87104307e+01,   3.79049243e+01,   5.30775317e+01,\n",
       "         5.30388384e+01,   1.59513175e+01,   7.85570648e+01,\n",
       "         4.90679323e+02,   1.22706112e+02,   1.44219582e+02,\n",
       "         1.00341388e+02,   1.29593518e+02,   6.29665630e+02,\n",
       "         3.98744060e+02,  -5.47413279e+01,  -1.30889728e+02,\n",
       "         1.04520264e+02,   8.98970946e+02,   1.75715922e+02,\n",
       "         3.50609604e+02,  -1.03503790e+00,   1.52499947e+02,\n",
       "         6.44988174e+02,   6.12640581e+02,  -4.82689143e+02,\n",
       "         8.19417536e+02,  -2.21741578e+02,   2.52947734e+02,\n",
       "         5.32129582e+01,   8.90429471e+01,  -1.21448564e+02,\n",
       "         3.35857856e+01,   4.58902526e+01,  -3.95638148e+00,\n",
       "         6.77209392e-02,   2.75593053e+01,   1.53709181e+01,\n",
       "         1.14348360e+02,  -2.65726109e+01,   2.86533512e+02,\n",
       "         3.18262012e+02,   3.28322268e+02,   8.53283910e+01,\n",
       "         2.21993100e+02,   5.63113167e+02,   1.00916944e+03,\n",
       "         5.42683108e+02,   2.69663236e+02,   1.00452625e+03,\n",
       "         6.47619318e+02,   1.96300754e+02,   7.68961483e+02,\n",
       "         7.84438800e+02,   6.51024327e+02,  -1.53486610e+02,\n",
       "         5.94377347e+02,  -1.10304896e+02,   3.80945146e+02,\n",
       "        -2.55636903e+02,   1.60857698e+02,   6.75294764e+01,\n",
       "         3.89157866e+01,   5.48767698e+01,   6.07581502e+01,\n",
       "         7.33721636e+01,   6.62139045e+01,   8.98941995e+01,\n",
       "         1.40427639e+02,   5.22069326e+01,   2.71520514e+02,\n",
       "         7.12624049e+02,   2.50471363e+02,   4.98727528e+02,\n",
       "         9.10549983e+01,   3.03839156e+01,  -3.15253524e+01,\n",
       "         1.08346056e+03,   4.55081494e+02,   1.25680651e+03,\n",
       "         8.19107990e+02,   2.56352744e+02,   5.15752577e+02,\n",
       "         2.89164656e+02,   8.31489844e+02,   1.61447840e+01,\n",
       "        -6.31116613e+02,   5.41444923e+02,  -5.83756023e+02,\n",
       "        -1.04762013e+01,   3.87416668e+01,   7.49585886e+01,\n",
       "         2.61470001e+01,   7.43879316e+00,   8.80369214e+01,\n",
       "         3.29861086e+00,  -3.66618179e+00,   1.90854742e+01,\n",
       "         6.08452792e+00,   1.51106988e+02,   1.39034681e+02,\n",
       "         2.74925524e+02,   3.51073924e+02,   5.95615533e+02,\n",
       "         2.83592822e+02,   3.50454831e+02,   9.50974731e+02,\n",
       "        -3.25594375e+02,   5.42373562e+02,  -2.30254103e+02,\n",
       "         8.17686081e+01,   7.44197776e+02,   9.75738438e+02,\n",
       "        -5.79422374e+02,   4.39604177e+02,   7.68158666e+01,\n",
       "         8.06726136e+02,  -2.50065068e+02,  -3.34261673e+02,\n",
       "         3.19316473e+01,   1.61322017e+02,  -2.51922346e+02,\n",
       "         5.59988753e+01,   6.47146085e+00,   6.36601472e+01,\n",
       "         7.03153935e+01,   6.30410545e+01,  -8.30937689e+00,\n",
       "         6.13385496e+01,   1.35010579e+02,   3.69027612e+02,\n",
       "         1.97538939e+02,  -9.23801591e+00,   4.18555026e+02,\n",
       "         5.43611747e+02,   3.70265797e+02,   2.74925524e+02,\n",
       "         1.46729803e+03,   4.23507767e+02,  -3.31785302e+02,\n",
       "        -7.19337320e+02,   3.38072978e+02,   1.17675984e+02,\n",
       "         8.30870751e+02,   6.00568274e+02,   6.55048430e+02,\n",
       "         4.02458616e+02,   4.95941611e+02,   1.98593401e+01,\n",
       "         2.19826276e+02,  -1.72862207e+01,  -2.26539547e+02,\n",
       "         1.25492029e+02,   2.24130974e+01,   7.35656300e+01,\n",
       "         6.45887862e+01,   5.35998911e+01,   4.38202305e+00,\n",
       "        -1.41907573e+01,   4.70994180e+01,   1.59774286e+02,\n",
       "         2.68734597e+02,   1.75870695e+02,   6.04282830e+02,\n",
       "         3.52931202e+02,   2.46447261e+02,   1.27581466e+02,\n",
       "        -7.58959251e+02,   5.58469972e+02,   3.28167495e+02,\n",
       "         2.01872588e+02,   1.42439691e+02,   2.36541778e+02,\n",
       "         7.71437854e+02,   8.79595349e+01,   8.91541834e+02,\n",
       "        -3.03307039e+02,   4.85417035e+02,  -1.06435567e+02,\n",
       "        -6.30990791e+01,  -4.08117426e+01,  -2.07347674e+02,\n",
       "         3.13125546e+01,   6.96963008e+01,   2.75979986e+01,\n",
       "        -6.74327278e+01,  -1.23334793e+01,  -2.47153329e+01,\n",
       "        -8.61892323e+00,  -3.33826304e+01,  -7.38073787e+00,\n",
       "         1.22628725e+02,   8.54831641e+01,   3.55407573e+02,\n",
       "         2.41494520e+02,   6.23930109e+00,   2.29112666e+02,\n",
       "         1.12723242e+02,   5.51040860e+02,  -1.18981107e+00,\n",
       "         6.03044645e+02,  -1.20055606e+02,  -9.28155277e+01,\n",
       "        -4.02361868e+02,   3.40549348e+02,  -1.86917615e+02,\n",
       "         3.28167495e+02,   9.04359056e+01,   3.47175644e+01,\n",
       "        -1.03959196e+02,   1.16437798e+02,  -3.33826304e+01,\n",
       "         3.51818839e+01,   1.18111352e+01,   4.40039546e+01,\n",
       "         1.73829693e+01,   1.55256913e+01,   2.48120815e+01,\n",
       "        -1.35716647e+01,   3.84321205e+01,   8.54831641e+01,\n",
       "         2.29112666e+02,  -1.91870357e+02,   2.66258227e+02,\n",
       "         6.56721984e+01,   3.67789426e+02,   7.55776813e+01,\n",
       "         3.59557497e+01,  -4.59318394e+02,   7.06249398e+01,\n",
       "        -3.85027273e+02,   3.43025719e+02,  -4.54365653e+02,\n",
       "        -2.90925185e+02,   2.73687339e+02,  -1.27484718e+02,\n",
       "        -4.12267351e+02,   2.39018149e+02,  -1.12626493e+02,\n",
       "         2.11778071e+02,  -3.70971865e+01,  -1.10150123e+02,\n",
       "         2.94552766e+01,   1.89307010e+01,  -3.15253524e+01,\n",
       "        -9.85710859e+00,  -1.48098500e+01,  -7.05281912e+01,\n",
       "        -6.80518205e+01,  -2.10007768e+01,  -5.31935962e+01,\n",
       "         1.49868803e+02,  -8.78627863e+01,   1.28655965e+00,\n",
       "        -1.81964874e+02,   1.39963320e+02,   2.58829115e+02,\n",
       "         7.06249398e+01,   2.10975254e+01,   2.93498305e+02,\n",
       "        -1.07673752e+02,  -2.56255995e+02,   6.07194569e+01,\n",
       "        -7.79573034e+01,   6.56721984e+01,   1.69679769e+02,\n",
       "        -1.85244061e+01,  -1.02721011e+02,   2.78640080e+02,\n",
       "         2.04348959e+02,   9.04359056e+01,  -6.06227084e+01,\n",
       "         2.82170912e+01,  -4.90436715e+00,   8.71567181e+00,\n",
       "         1.49065986e+01,   1.36684133e+01,  -4.57644840e+01,\n",
       "         2.10975254e+01,  -2.29015917e+02,   1.94443476e+02,\n",
       "         8.54831641e+01,  -1.17579235e+02,  -5.81463376e+01,\n",
       "         1.39963320e+02,  -1.57201166e+02,   3.10030083e+01,\n",
       "        -1.07673752e+02,   2.29112666e+02,   1.69679769e+02,\n",
       "         7.06249398e+01,   1.69679769e+02,   5.08139741e+01,\n",
       "         1.00341388e+02,   6.56721984e+01,   4.58612326e+01,\n",
       "         4.09084912e+01,   1.15199613e+02,   2.24159924e+02,\n",
       "         9.53886470e+01,   6.23930109e+00,  -6.14255251e+00,\n",
       "         1.95497937e+01,   3.10030083e+01,   1.36684133e+01,\n",
       "        -2.59535183e+01,   1.61447840e+01,   8.71567181e+00,\n",
       "         6.07194569e+01,   5.08139741e+01,   1.61447840e+01,\n",
       "         6.07194569e+01,   4.09084912e+01,   1.00341388e+02,\n",
       "        -1.77012132e+02,   1.28655965e+00,   1.69679769e+02,\n",
       "        -1.27484718e+02,  -4.82408548e+01,  -1.27484718e+02,\n",
       "         9.04359056e+01,   7.06249398e+01,   1.28655965e+00,\n",
       "         1.11920425e+01,  -8.61892323e+00,   2.10975254e+01,\n",
       "         1.05294130e+02,   4.58612326e+01,  -5.31935962e+01,\n",
       "         1.11920425e+01,  -8.29100448e+01,  -6.55754498e+01,\n",
       "         2.10975254e+01,  -5.52345983e+00,  -1.48098500e+01,\n",
       "         8.71567181e+00,  -2.59535183e+01,  -5.07172255e+01,\n",
       "         8.05304227e+01,   2.10975254e+01,   7.06249398e+01,\n",
       "        -4.82408548e+01,  -1.37390201e+02,   1.28655965e+00,\n",
       "         2.58829115e+02,  -3.83353719e+01,   2.78640080e+02,\n",
       "        -3.15688893e+02,   1.49868803e+02,  -1.27484718e+02,\n",
       "        -1.86917615e+02,   7.06249398e+01,   5.08139741e+01,\n",
       "         2.10975254e+01,   1.00341388e+02,  -4.82408548e+01,\n",
       "         1.11920425e+01,  -8.61892323e+00,  -1.35716647e+01,\n",
       "        -5.31935962e+01,   1.11920425e+01,   7.06249398e+01,\n",
       "         1.36684133e+01,  -3.66618179e+00,   6.23930109e+00,\n",
       "         1.86211547e+01,   3.34793790e+01,  -9.28155277e+01,\n",
       "        -6.30990791e+01,  -8.29100448e+01,   1.11920425e+01,\n",
       "         1.10246871e+02,  -3.83353719e+01,  -1.17579235e+02,\n",
       "        -1.47295684e+02,  -8.61892323e+00,   7.06249398e+01,\n",
       "        -1.47295684e+02,   1.30057837e+02,   1.69679769e+02,\n",
       "        -4.82408548e+01,   1.11920425e+01,  -1.67106649e+02,\n",
       "        -5.81463376e+01,   4.09084912e+01,  -2.84298890e+01,\n",
       "         8.05304227e+01,   1.11920425e+01,   7.06249398e+01,\n",
       "        -6.80518205e+01,   8.05304227e+01,   9.04359056e+01,\n",
       "        -1.29525720e+01,  -4.90436715e+00,  -1.35716647e+01,\n",
       "        -4.08117426e+01,   2.10975254e+01,   1.28655965e+00,\n",
       "        -3.33826304e+01,  -3.83353719e+01,  -2.84298890e+01,\n",
       "        -3.83353719e+01,  -7.79573034e+01,   5.08139741e+01,\n",
       "        -8.61892323e+00,  -1.27484718e+02,   1.30057837e+02,\n",
       "        -2.66161478e+02,   1.10246871e+02,   3.10030083e+01,\n",
       "        -1.07673752e+02,  -8.61892323e+00,   7.06249398e+01,\n",
       "        -2.84298890e+01,   7.06249398e+01,  -3.83353719e+01,\n",
       "         5.08139741e+01,   4.09084912e+01,   3.10030083e+01,\n",
       "         3.10030083e+01,   8.54831641e+01,   6.56721984e+01,\n",
       "         8.71567181e+00,   1.49065986e+01,   6.23930109e+00,\n",
       "        -6.06227084e+01,  -3.66618179e+00,   4.58612326e+01,\n",
       "         5.08139741e+01,   2.10975254e+01,  -8.61892323e+00,\n",
       "        -1.85244061e+01,   3.10030083e+01,   5.08139741e+01,\n",
       "        -2.84298890e+01,   1.30057837e+02,   1.30057837e+02,\n",
       "        -1.47295684e+02,   1.10246871e+02,   5.08139741e+01,\n",
       "        -6.80518205e+01,   1.89490734e+02,   9.04359056e+01,\n",
       "         1.30057837e+02,   1.89490734e+02,   4.09084912e+01,\n",
       "        -1.85244061e+01,   1.28655965e+00,  -8.61892323e+00,\n",
       "        -8.78627863e+01,   8.05304227e+01,  -8.61892323e+00,\n",
       "        -1.35716647e+01,  -1.60480354e+01,   2.35738961e+01,\n",
       "         1.36684133e+01,  -3.66618179e+00,  -7.30045620e+01,\n",
       "        -3.83353719e+01,   1.28655965e+00,   2.10975254e+01,\n",
       "        -4.82408548e+01,  -6.80518205e+01,   1.30057837e+02,\n",
       "        -1.07673752e+02,  -1.27484718e+02,   5.08139741e+01,\n",
       "        -8.61892323e+00,   1.11920425e+01,  -6.80518205e+01,\n",
       "        -1.67106649e+02,   1.30057837e+02,  -6.80518205e+01,\n",
       "         7.06249398e+01,   5.08139741e+01,   3.10030083e+01,\n",
       "         1.28655965e+00,   7.06249398e+01,   5.08139741e+01,\n",
       "         6.07194569e+01,   6.23930109e+00,  -3.33826304e+01,\n",
       "         2.52474501e+00,   2.10975254e+01,  -2.10007768e+01,\n",
       "         1.28655965e+00,  -3.66618179e+00,  -1.35716647e+01,\n",
       "        -2.84298890e+01,  -4.82408548e+01,  -2.84298890e+01,\n",
       "         1.28655965e+00,  -2.84298890e+01,   7.06249398e+01,\n",
       "         1.11920425e+01,   3.10030083e+01,  -2.84298890e+01,\n",
       "        -2.06728581e+02,  -8.78627863e+01,  -2.84298890e+01,\n",
       "        -8.78627863e+01,  -8.61892323e+00,   3.10030083e+01,\n",
       "        -2.84298890e+01,   3.10030083e+01,  -2.84298890e+01,\n",
       "         4.09084912e+01,   1.11920425e+01,   2.10975254e+01,\n",
       "        -3.83353719e+01,   4.09084912e+01,   1.11920425e+01,\n",
       "         4.83742929e-02,  -1.35716647e+01,  -3.66618179e+00,\n",
       "        -1.18981107e+00,  -2.34771475e+01,  -8.61892323e+00,\n",
       "         3.10030083e+01,  -5.81463376e+01,  -3.83353719e+01,\n",
       "         4.09084912e+01,  -4.82408548e+01,   3.10030083e+01,\n",
       "         1.11920425e+01,  -8.61892323e+00,   1.11920425e+01,\n",
       "         1.11920425e+01,  -8.61892323e+00,   3.10030083e+01,\n",
       "        -2.84298890e+01,   9.04359056e+01,  -4.82408548e+01,\n",
       "        -4.82408548e+01,  -2.84298890e+01,  -8.61892323e+00,\n",
       "        -6.80518205e+01,   2.10975254e+01,  -2.84298890e+01,\n",
       "         1.11920425e+01,   6.23930109e+00,   4.09084912e+01])"
      ]
     },
     "execution_count": 158,
     "metadata": {},
     "output_type": "execute_result"
    }
   ],
   "source": [
    "model.predict(test_counts[:,:2])"
   ]
  }
 ],
 "metadata": {
  "kernelspec": {
   "display_name": "Python 2",
   "language": "python",
   "name": "python2"
  },
  "language_info": {
   "codemirror_mode": {
    "name": "ipython",
    "version": 2
   },
   "file_extension": ".py",
   "mimetype": "text/x-python",
   "name": "python",
   "nbconvert_exporter": "python",
   "pygments_lexer": "ipython2",
   "version": "2.7.10"
  }
 },
 "nbformat": 4,
 "nbformat_minor": 0
}
